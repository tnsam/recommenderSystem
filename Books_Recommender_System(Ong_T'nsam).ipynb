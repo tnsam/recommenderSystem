{
  "nbformat": 4,
  "nbformat_minor": 0,
  "metadata": {
    "colab": {
      "name": "Books Recommender System(Ong T'nsam).ipynb",
      "provenance": [],
      "collapsed_sections": []
    },
    "kernelspec": {
      "name": "python3",
      "display_name": "Python 3"
    }
  },
  "cells": [
    {
      "cell_type": "markdown",
      "metadata": {
        "id": "52k5gujFflkR",
        "colab_type": "text"
      },
      "source": [
        "# Books Recommender System#"
      ]
    },
    {
      "cell_type": "markdown",
      "metadata": {
        "id": "k58TuOvhNuU1",
        "colab_type": "text"
      },
      "source": [
        "## Popularity and  User-Based Collaborative Filtering##"
      ]
    },
    {
      "cell_type": "code",
      "metadata": {
        "id": "2hN4LnPKNBEE",
        "colab_type": "code",
        "colab": {
          "base_uri": "https://localhost:8080/",
          "height": 121
        },
        "outputId": "a6a736ba-fd58-4d71-e15a-c2093bb53c6b"
      },
      "source": [
        "from google.colab import drive\n",
        "drive.mount('/content/drive')"
      ],
      "execution_count": 1,
      "outputs": [
        {
          "output_type": "stream",
          "text": [
            "Go to this URL in a browser: https://accounts.google.com/o/oauth2/auth?client_id=947318989803-6bn6qk8qdgf4n4g3pfee6491hc0brc4i.apps.googleusercontent.com&redirect_uri=urn%3aietf%3awg%3aoauth%3a2.0%3aoob&scope=email%20https%3a%2f%2fwww.googleapis.com%2fauth%2fdocs.test%20https%3a%2f%2fwww.googleapis.com%2fauth%2fdrive%20https%3a%2f%2fwww.googleapis.com%2fauth%2fdrive.photos.readonly%20https%3a%2f%2fwww.googleapis.com%2fauth%2fpeopleapi.readonly&response_type=code\n",
            "\n",
            "Enter your authorization code:\n",
            "··········\n",
            "Mounted at /content/drive\n"
          ],
          "name": "stdout"
        }
      ]
    },
    {
      "cell_type": "markdown",
      "metadata": {
        "id": "eJvlGxEKNkjT",
        "colab_type": "text"
      },
      "source": [
        "## Import libraries and datasets ##"
      ]
    },
    {
      "cell_type": "code",
      "metadata": {
        "id": "sXVqAEd1NXyZ",
        "colab_type": "code",
        "colab": {}
      },
      "source": [
        "#import libraries\n",
        "import pandas as pd\n",
        "import numpy as np\n",
        "import matplotlib.pyplot as plt\n",
        "\n",
        "#link to datasets\n",
        "books = pd.read_csv('drive/My Drive/Colab Notebooks/books.csv')\n",
        "books = books.drop(['image_url','small_image_url','title','best_book_id','isbn','isbn13'],axis=1)\n",
        "ratings_data = pd.read_csv('drive/My Drive/Colab Notebooks/ratings.csv')\n",
        "\n",
        "#merge the rating with book based on book id\n",
        "books_data = pd.merge(ratings_data,books,on='book_id')\n",
        "books_data= books_data.drop(['id','work_id','language_code','work_ratings_count','work_text_reviews_count','ratings_1','ratings_2','ratings_3','ratings_4','ratings_5'],axis=1)\n",
        "\n",
        "#remove warning message\n",
        "import warnings\n",
        "warnings.filterwarnings(\"ignore\")"
      ],
      "execution_count": 2,
      "outputs": []
    },
    {
      "cell_type": "markdown",
      "metadata": {
        "id": "bhbRLZz0NYZy",
        "colab_type": "text"
      },
      "source": [
        "## Data Preprocessing ##"
      ]
    },
    {
      "cell_type": "markdown",
      "metadata": {
        "id": "RQFqihnutOAT",
        "colab_type": "text"
      },
      "source": [
        "#### Data Cleaning ####"
      ]
    },
    {
      "cell_type": "code",
      "metadata": {
        "id": "UoVyCmdSM_Aa",
        "colab_type": "code",
        "colab": {
          "base_uri": "https://localhost:8080/",
          "height": 420
        },
        "outputId": "a6e09a9f-7362-47aa-bbc2-6a14401a7aa7"
      },
      "source": [
        "books.info()"
      ],
      "execution_count": 3,
      "outputs": [
        {
          "output_type": "stream",
          "text": [
            "<class 'pandas.core.frame.DataFrame'>\n",
            "RangeIndex: 10000 entries, 0 to 9999\n",
            "Data columns (total 17 columns):\n",
            " #   Column                     Non-Null Count  Dtype  \n",
            "---  ------                     --------------  -----  \n",
            " 0   id                         10000 non-null  int64  \n",
            " 1   book_id                    10000 non-null  int64  \n",
            " 2   work_id                    10000 non-null  int64  \n",
            " 3   books_count                10000 non-null  int64  \n",
            " 4   authors                    10000 non-null  object \n",
            " 5   original_publication_year  9979 non-null   float64\n",
            " 6   original_title             9415 non-null   object \n",
            " 7   language_code              8916 non-null   object \n",
            " 8   average_rating             10000 non-null  float64\n",
            " 9   ratings_count              10000 non-null  int64  \n",
            " 10  work_ratings_count         10000 non-null  int64  \n",
            " 11  work_text_reviews_count    10000 non-null  int64  \n",
            " 12  ratings_1                  10000 non-null  int64  \n",
            " 13  ratings_2                  10000 non-null  int64  \n",
            " 14  ratings_3                  10000 non-null  int64  \n",
            " 15  ratings_4                  10000 non-null  int64  \n",
            " 16  ratings_5                  10000 non-null  int64  \n",
            "dtypes: float64(2), int64(12), object(3)\n",
            "memory usage: 1.3+ MB\n"
          ],
          "name": "stdout"
        }
      ]
    },
    {
      "cell_type": "code",
      "metadata": {
        "id": "ObZJ02Y8NPpw",
        "colab_type": "code",
        "colab": {
          "base_uri": "https://localhost:8080/",
          "height": 185
        },
        "outputId": "4b60a24f-c304-44ec-a38c-005f637062b9"
      },
      "source": [
        "ratings_data.info()"
      ],
      "execution_count": 4,
      "outputs": [
        {
          "output_type": "stream",
          "text": [
            "<class 'pandas.core.frame.DataFrame'>\n",
            "RangeIndex: 981756 entries, 0 to 981755\n",
            "Data columns (total 3 columns):\n",
            " #   Column   Non-Null Count   Dtype\n",
            "---  ------   --------------   -----\n",
            " 0   book_id  981756 non-null  int64\n",
            " 1   user_id  981756 non-null  int64\n",
            " 2   rating   981756 non-null  int64\n",
            "dtypes: int64(3)\n",
            "memory usage: 22.5 MB\n"
          ],
          "name": "stdout"
        }
      ]
    },
    {
      "cell_type": "code",
      "metadata": {
        "id": "_ZHamOGN8aeG",
        "colab_type": "code",
        "colab": {
          "base_uri": "https://localhost:8080/",
          "height": 286
        },
        "outputId": "7951ed42-302c-4e4c-f7b8-b74568da06eb"
      },
      "source": [
        "books_data.info()"
      ],
      "execution_count": 5,
      "outputs": [
        {
          "output_type": "stream",
          "text": [
            "<class 'pandas.core.frame.DataFrame'>\n",
            "Int64Index: 79701 entries, 0 to 79700\n",
            "Data columns (total 9 columns):\n",
            " #   Column                     Non-Null Count  Dtype  \n",
            "---  ------                     --------------  -----  \n",
            " 0   book_id                    79701 non-null  int64  \n",
            " 1   user_id                    79701 non-null  int64  \n",
            " 2   rating                     79701 non-null  int64  \n",
            " 3   books_count                79701 non-null  int64  \n",
            " 4   authors                    79701 non-null  object \n",
            " 5   original_publication_year  79601 non-null  float64\n",
            " 6   original_title             77920 non-null  object \n",
            " 7   average_rating             79701 non-null  float64\n",
            " 8   ratings_count              79701 non-null  int64  \n",
            "dtypes: float64(2), int64(5), object(2)\n",
            "memory usage: 6.1+ MB\n"
          ],
          "name": "stdout"
        }
      ]
    },
    {
      "cell_type": "code",
      "metadata": {
        "id": "pAmnA7dZRPsu",
        "colab_type": "code",
        "colab": {
          "base_uri": "https://localhost:8080/",
          "height": 185
        },
        "outputId": "53309183-948b-48fd-c81e-16d8c8be90c5"
      },
      "source": [
        "#check missing value\n",
        "nullValue = books_data.isnull().any()\n",
        "nullValue"
      ],
      "execution_count": 6,
      "outputs": [
        {
          "output_type": "execute_result",
          "data": {
            "text/plain": [
              "book_id                      False\n",
              "user_id                      False\n",
              "rating                       False\n",
              "books_count                  False\n",
              "authors                      False\n",
              "original_publication_year     True\n",
              "original_title                True\n",
              "average_rating               False\n",
              "ratings_count                False\n",
              "dtype: bool"
            ]
          },
          "metadata": {
            "tags": []
          },
          "execution_count": 6
        }
      ]
    },
    {
      "cell_type": "code",
      "metadata": {
        "id": "d_IFt0A6tRTi",
        "colab_type": "code",
        "colab": {}
      },
      "source": [
        "# Drops missing values for all columns if there is any missing value\n",
        "books_data = books_data.dropna(how='any')\n",
        "\n",
        "# Remove rows with non-ASCII characters in title and authors column\n",
        "books_data = books_data[~books_data.original_title.str.contains(r'[^\\x00-\\x7F]')]\n",
        "books_data = books_data[~books_data.authors.str.contains(r'[^\\x00-\\x7F]')]\n",
        "\n",
        "# Resets the index\n",
        "books_data = books_data.reset_index(drop=True)"
      ],
      "execution_count": 7,
      "outputs": []
    },
    {
      "cell_type": "markdown",
      "metadata": {
        "id": "pxmT_zn4cHCA",
        "colab_type": "text"
      },
      "source": [
        "#### Data visualization ####"
      ]
    },
    {
      "cell_type": "code",
      "metadata": {
        "id": "s-dCiZAvOguz",
        "colab_type": "code",
        "colab": {
          "base_uri": "https://localhost:8080/",
          "height": 195
        },
        "outputId": "93c3b0db-5e7d-4274-acaa-55f55aa31432"
      },
      "source": [
        "#display information about books \n",
        "books_data.head()"
      ],
      "execution_count": 8,
      "outputs": [
        {
          "output_type": "execute_result",
          "data": {
            "text/html": [
              "<div>\n",
              "<style scoped>\n",
              "    .dataframe tbody tr th:only-of-type {\n",
              "        vertical-align: middle;\n",
              "    }\n",
              "\n",
              "    .dataframe tbody tr th {\n",
              "        vertical-align: top;\n",
              "    }\n",
              "\n",
              "    .dataframe thead th {\n",
              "        text-align: right;\n",
              "    }\n",
              "</style>\n",
              "<table border=\"1\" class=\"dataframe\">\n",
              "  <thead>\n",
              "    <tr style=\"text-align: right;\">\n",
              "      <th></th>\n",
              "      <th>book_id</th>\n",
              "      <th>user_id</th>\n",
              "      <th>rating</th>\n",
              "      <th>books_count</th>\n",
              "      <th>authors</th>\n",
              "      <th>original_publication_year</th>\n",
              "      <th>original_title</th>\n",
              "      <th>average_rating</th>\n",
              "      <th>ratings_count</th>\n",
              "    </tr>\n",
              "  </thead>\n",
              "  <tbody>\n",
              "    <tr>\n",
              "      <th>0</th>\n",
              "      <td>10</td>\n",
              "      <td>3662</td>\n",
              "      <td>4</td>\n",
              "      <td>6</td>\n",
              "      <td>J.K. Rowling</td>\n",
              "      <td>2005.0</td>\n",
              "      <td>Harry Potter Collection (Harry Potter, #1-6)</td>\n",
              "      <td>4.73</td>\n",
              "      <td>24618</td>\n",
              "    </tr>\n",
              "    <tr>\n",
              "      <th>1</th>\n",
              "      <td>10</td>\n",
              "      <td>3922</td>\n",
              "      <td>5</td>\n",
              "      <td>6</td>\n",
              "      <td>J.K. Rowling</td>\n",
              "      <td>2005.0</td>\n",
              "      <td>Harry Potter Collection (Harry Potter, #1-6)</td>\n",
              "      <td>4.73</td>\n",
              "      <td>24618</td>\n",
              "    </tr>\n",
              "    <tr>\n",
              "      <th>2</th>\n",
              "      <td>10</td>\n",
              "      <td>4536</td>\n",
              "      <td>2</td>\n",
              "      <td>6</td>\n",
              "      <td>J.K. Rowling</td>\n",
              "      <td>2005.0</td>\n",
              "      <td>Harry Potter Collection (Harry Potter, #1-6)</td>\n",
              "      <td>4.73</td>\n",
              "      <td>24618</td>\n",
              "    </tr>\n",
              "    <tr>\n",
              "      <th>3</th>\n",
              "      <td>10</td>\n",
              "      <td>5115</td>\n",
              "      <td>4</td>\n",
              "      <td>6</td>\n",
              "      <td>J.K. Rowling</td>\n",
              "      <td>2005.0</td>\n",
              "      <td>Harry Potter Collection (Harry Potter, #1-6)</td>\n",
              "      <td>4.73</td>\n",
              "      <td>24618</td>\n",
              "    </tr>\n",
              "    <tr>\n",
              "      <th>4</th>\n",
              "      <td>10</td>\n",
              "      <td>5272</td>\n",
              "      <td>3</td>\n",
              "      <td>6</td>\n",
              "      <td>J.K. Rowling</td>\n",
              "      <td>2005.0</td>\n",
              "      <td>Harry Potter Collection (Harry Potter, #1-6)</td>\n",
              "      <td>4.73</td>\n",
              "      <td>24618</td>\n",
              "    </tr>\n",
              "  </tbody>\n",
              "</table>\n",
              "</div>"
            ],
            "text/plain": [
              "   book_id  user_id  ...  average_rating  ratings_count\n",
              "0       10     3662  ...            4.73          24618\n",
              "1       10     3922  ...            4.73          24618\n",
              "2       10     4536  ...            4.73          24618\n",
              "3       10     5115  ...            4.73          24618\n",
              "4       10     5272  ...            4.73          24618\n",
              "\n",
              "[5 rows x 9 columns]"
            ]
          },
          "metadata": {
            "tags": []
          },
          "execution_count": 8
        }
      ]
    },
    {
      "cell_type": "code",
      "metadata": {
        "id": "V4zemNBxO34B",
        "colab_type": "code",
        "colab": {
          "base_uri": "https://localhost:8080/",
          "height": 34
        },
        "outputId": "87a95d10-e759-477b-875b-3fb45a5f2928"
      },
      "source": [
        "books_data.shape"
      ],
      "execution_count": 9,
      "outputs": [
        {
          "output_type": "execute_result",
          "data": {
            "text/plain": [
              "(71032, 9)"
            ]
          },
          "metadata": {
            "tags": []
          },
          "execution_count": 9
        }
      ]
    },
    {
      "cell_type": "code",
      "metadata": {
        "id": "H5OK1V_iO6uy",
        "colab_type": "code",
        "colab": {
          "base_uri": "https://localhost:8080/",
          "height": 84
        },
        "outputId": "a53c232b-6dc2-4e70-923b-6c21e73764f2"
      },
      "source": [
        "books_data.columns"
      ],
      "execution_count": 10,
      "outputs": [
        {
          "output_type": "execute_result",
          "data": {
            "text/plain": [
              "Index(['book_id', 'user_id', 'rating', 'books_count', 'authors',\n",
              "       'original_publication_year', 'original_title', 'average_rating',\n",
              "       'ratings_count'],\n",
              "      dtype='object')"
            ]
          },
          "metadata": {
            "tags": []
          },
          "execution_count": 10
        }
      ]
    },
    {
      "cell_type": "code",
      "metadata": {
        "id": "F2QKMuchO60p",
        "colab_type": "code",
        "colab": {
          "base_uri": "https://localhost:8080/",
          "height": 34
        },
        "outputId": "09926963-e2a5-4da6-acd5-2b0c2cee2d11"
      },
      "source": [
        "len(books_data)"
      ],
      "execution_count": 11,
      "outputs": [
        {
          "output_type": "execute_result",
          "data": {
            "text/plain": [
              "71032"
            ]
          },
          "metadata": {
            "tags": []
          },
          "execution_count": 11
        }
      ]
    },
    {
      "cell_type": "code",
      "metadata": {
        "id": "zAIOz-X1PCh9",
        "colab_type": "code",
        "colab": {
          "base_uri": "https://localhost:8080/",
          "height": 34
        },
        "outputId": "1a4f8dee-38ef-4269-bde5-8f0ecf9a14ad"
      },
      "source": [
        "no_of_users = len(ratings_data.user_id.unique())\n",
        "no_of_users"
      ],
      "execution_count": 12,
      "outputs": [
        {
          "output_type": "execute_result",
          "data": {
            "text/plain": [
              "53424"
            ]
          },
          "metadata": {
            "tags": []
          },
          "execution_count": 12
        }
      ]
    },
    {
      "cell_type": "code",
      "metadata": {
        "id": "CjGLfC7DPFc2",
        "colab_type": "code",
        "colab": {
          "base_uri": "https://localhost:8080/",
          "height": 34
        },
        "outputId": "9823dad4-332e-4bae-ccd6-56e4facece4b"
      },
      "source": [
        "no_of_books = len(ratings_data.book_id.unique())\n",
        "no_of_books"
      ],
      "execution_count": 13,
      "outputs": [
        {
          "output_type": "execute_result",
          "data": {
            "text/plain": [
              "10000"
            ]
          },
          "metadata": {
            "tags": []
          },
          "execution_count": 13
        }
      ]
    },
    {
      "cell_type": "code",
      "metadata": {
        "id": "hSiRl0k0cPPZ",
        "colab_type": "code",
        "colab": {
          "base_uri": "https://localhost:8080/",
          "height": 295
        },
        "outputId": "dfe8f133-7495-4118-dcf8-b07a1396245f"
      },
      "source": [
        "#the rating of books\n",
        "import matplotlib.pyplot as plt\n",
        "import seaborn as sns\n",
        "\n",
        "sns.countplot(books_data.rating)\n",
        "plt.title('Bar Chart for Rating of books')\n",
        "plt.show()"
      ],
      "execution_count": 14,
      "outputs": [
        {
          "output_type": "display_data",
          "data": {
            "image/png": "[encoded data removed]",
            "text/plain": [
              "<Figure size 432x288 with 1 Axes>"
            ]
          },
          "metadata": {
            "tags": [],
            "needs_background": "light"
          }
        }
      ]
    },
    {
      "cell_type": "code",
      "metadata": {
        "id": "5mqCLviNwT6S",
        "colab_type": "code",
        "colab": {
          "base_uri": "https://localhost:8080/",
          "height": 281
        },
        "outputId": "24968f1b-7b77-443a-85d3-7d1ace7f6b31"
      },
      "source": [
        "#pie chart for the ratings of books\n",
        "plt.title('Pie Chart for Rating of books')\n",
        "books_data.rating.value_counts().plot(kind='pie', autopct='%1.1f%%')"
      ],
      "execution_count": 15,
      "outputs": [
        {
          "output_type": "execute_result",
          "data": {
            "text/plain": [
              "<matplotlib.axes._subplots.AxesSubplot at 0x7fa25c42f908>"
            ]
          },
          "metadata": {
            "tags": []
          },
          "execution_count": 15
        },
        {
          "output_type": "display_data",
          "data": {
            "image/png": "[encoded data removed]",
            "text/plain": [
              "<Figure size 432x288 with 1 Axes>"
            ]
          },
          "metadata": {
            "tags": []
          }
        }
      ]
    },
    {
      "cell_type": "code",
      "metadata": {
        "id": "u4HCPNV_Dr9c",
        "colab_type": "code",
        "colab": {
          "base_uri": "https://localhost:8080/",
          "height": 391
        },
        "outputId": "4860af3c-073d-4433-98b0-810a903386c8"
      },
      "source": [
        "import matplotlib.pyplot as plt\n",
        "import seaborn as sns\n",
        "sns.set_style('dark')\n",
        "%matplotlib inline\n",
        "\n",
        "#plot the histogram for average ratings\n",
        "plt.figure(figsize=(8,6))\n",
        "plt.rcParams['patch.force_edgecolor'] = True\n",
        "books_data['average_rating'].hist(bins=50)"
      ],
      "execution_count": 16,
      "outputs": [
        {
          "output_type": "execute_result",
          "data": {
            "text/plain": [
              "<matplotlib.axes._subplots.AxesSubplot at 0x7fa25bed2358>"
            ]
          },
          "metadata": {
            "tags": []
          },
          "execution_count": 16
        },
        {
          "output_type": "display_data",
          "data": {
            "image/png": "[encoded data removed]",
            "text/plain": [
              "<Figure size 576x432 with 1 Axes>"
            ]
          },
          "metadata": {
            "tags": [],
            "needs_background": "light"
          }
        }
      ]
    },
    {
      "cell_type": "markdown",
      "metadata": {
        "id": "JwGhRKPFu3q7",
        "colab_type": "text"
      },
      "source": [
        "## Popularity Based Recommender System ##"
      ]
    },
    {
      "cell_type": "markdown",
      "metadata": {
        "id": "WuMdvcNVPZw_",
        "colab_type": "text"
      },
      "source": [
        "#### Recommend Top n Popular Books ####"
      ]
    },
    {
      "cell_type": "code",
      "metadata": {
        "id": "zTcHYvGaPzq7",
        "colab_type": "code",
        "colab": {
          "base_uri": "https://localhost:8080/",
          "height": 377
        },
        "outputId": "4f18011c-e8e0-4ec1-d82b-5bbfc3db93c1"
      },
      "source": [
        "#trend the books with high rating\n",
        "trend = (books_data.sort_values('rating',ascending=False))\n",
        "top = trend\n",
        "top['books'] = top['original_title'].map(str) + \" - \" + top['authors']\n",
        "top = top.drop(['user_id','books_count', 'authors','original_publication_year', 'original_title', 'average_rating'],axis=1)\n",
        "\n",
        "#recommend top n popular books\n",
        "n =10\n",
        "print(\"                              TOP {} RECOMMENDATIONS\".format(n))\n",
        "print(\"===================================++++++++++++++====================================\")\n",
        "top.drop_duplicates().head(n)"
      ],
      "execution_count": 21,
      "outputs": [
        {
          "output_type": "stream",
          "text": [
            "                              TOP 10 RECOMMENDATIONS\n",
            "===================================++++++++++++++====================================\n"
          ],
          "name": "stdout"
        },
        {
          "output_type": "execute_result",
          "data": {
            "text/html": [
              "<div>\n",
              "<style scoped>\n",
              "    .dataframe tbody tr th:only-of-type {\n",
              "        vertical-align: middle;\n",
              "    }\n",
              "\n",
              "    .dataframe tbody tr th {\n",
              "        vertical-align: top;\n",
              "    }\n",
              "\n",
              "    .dataframe thead th {\n",
              "        text-align: right;\n",
              "    }\n",
              "</style>\n",
              "<table border=\"1\" class=\"dataframe\">\n",
              "  <thead>\n",
              "    <tr style=\"text-align: right;\">\n",
              "      <th></th>\n",
              "      <th>book_id</th>\n",
              "      <th>rating</th>\n",
              "      <th>ratings_count</th>\n",
              "      <th>books</th>\n",
              "    </tr>\n",
              "  </thead>\n",
              "  <tbody>\n",
              "    <tr>\n",
              "      <th>52784</th>\n",
              "      <td>7035</td>\n",
              "      <td>5</td>\n",
              "      <td>29574</td>\n",
              "      <td>Morality for Beautiful Girls - Alexander McCal...</td>\n",
              "    </tr>\n",
              "    <tr>\n",
              "      <th>20389</th>\n",
              "      <td>3462</td>\n",
              "      <td>5</td>\n",
              "      <td>142092</td>\n",
              "      <td>The Rescue - Nicholas Sparks</td>\n",
              "    </tr>\n",
              "    <tr>\n",
              "      <th>20405</th>\n",
              "      <td>3463</td>\n",
              "      <td>5</td>\n",
              "      <td>116800</td>\n",
              "      <td>A Bend in the Road - Nicholas Sparks</td>\n",
              "    </tr>\n",
              "    <tr>\n",
              "      <th>49699</th>\n",
              "      <td>6628</td>\n",
              "      <td>5</td>\n",
              "      <td>24870</td>\n",
              "      <td>The Big Over Easy - Jasper Fforde</td>\n",
              "    </tr>\n",
              "    <tr>\n",
              "      <th>49747</th>\n",
              "      <td>6656</td>\n",
              "      <td>5</td>\n",
              "      <td>74130</td>\n",
              "      <td>La Divina Commedia - Dante Alighieri, Allen Ma...</td>\n",
              "    </tr>\n",
              "    <tr>\n",
              "      <th>49519</th>\n",
              "      <td>6613</td>\n",
              "      <td>5</td>\n",
              "      <td>22278</td>\n",
              "      <td>Four Blondes - Candace Bushnell</td>\n",
              "    </tr>\n",
              "    <tr>\n",
              "      <th>20548</th>\n",
              "      <td>3464</td>\n",
              "      <td>5</td>\n",
              "      <td>62840</td>\n",
              "      <td>True Believer - Nicholas Sparks</td>\n",
              "    </tr>\n",
              "    <tr>\n",
              "      <th>49560</th>\n",
              "      <td>6614</td>\n",
              "      <td>5</td>\n",
              "      <td>35792</td>\n",
              "      <td>Lipstick Jungle - Candace Bushnell</td>\n",
              "    </tr>\n",
              "    <tr>\n",
              "      <th>20604</th>\n",
              "      <td>3465</td>\n",
              "      <td>5</td>\n",
              "      <td>32208</td>\n",
              "      <td>Three Weeks with My Brother - Nicholas Sparks,...</td>\n",
              "    </tr>\n",
              "    <tr>\n",
              "      <th>20055</th>\n",
              "      <td>3431</td>\n",
              "      <td>5</td>\n",
              "      <td>449501</td>\n",
              "      <td>The Five People You Meet in Heaven - Mitch Albom</td>\n",
              "    </tr>\n",
              "  </tbody>\n",
              "</table>\n",
              "</div>"
            ],
            "text/plain": [
              "       book_id  ...                                              books\n",
              "52784     7035  ...  Morality for Beautiful Girls - Alexander McCal...\n",
              "20389     3462  ...                       The Rescue - Nicholas Sparks\n",
              "20405     3463  ...               A Bend in the Road - Nicholas Sparks\n",
              "49699     6628  ...                  The Big Over Easy - Jasper Fforde\n",
              "49747     6656  ...  La Divina Commedia - Dante Alighieri, Allen Ma...\n",
              "49519     6613  ...                    Four Blondes - Candace Bushnell\n",
              "20548     3464  ...                    True Believer - Nicholas Sparks\n",
              "49560     6614  ...                 Lipstick Jungle - Candace Bushnell\n",
              "20604     3465  ...  Three Weeks with My Brother - Nicholas Sparks,...\n",
              "20055     3431  ...   The Five People You Meet in Heaven - Mitch Albom\n",
              "\n",
              "[10 rows x 4 columns]"
            ]
          },
          "metadata": {
            "tags": []
          },
          "execution_count": 21
        }
      ]
    },
    {
      "cell_type": "code",
      "metadata": {
        "id": "VTlLBXSGp6eB",
        "colab_type": "code",
        "colab": {
          "base_uri": "https://localhost:8080/",
          "height": 377
        },
        "outputId": "d49a0fb0-e5d1-4376-ca96-823c54f0bec4"
      },
      "source": [
        "#recommend the books according to their average ratings\n",
        "print(\"                                          Recommendations based on Average rating\")\n",
        "print(\"===================================================++++++++++++++=====================================================\")\n",
        "average = books_data\n",
        "average = average.drop_duplicates(subset = 'book_id',keep = 'first')\n",
        "average = average.drop(['user_id','rating','books_count','original_publication_year'], axis=1)\n",
        "average.sort_values('average_rating',ascending=False).head(10)"
      ],
      "execution_count": 23,
      "outputs": [
        {
          "output_type": "stream",
          "text": [
            "                                          Recommendations based on Average rating\n",
            "===================================================++++++++++++++=====================================================\n"
          ],
          "name": "stdout"
        },
        {
          "output_type": "execute_result",
          "data": {
            "text/html": [
              "<div>\n",
              "<style scoped>\n",
              "    .dataframe tbody tr th:only-of-type {\n",
              "        vertical-align: middle;\n",
              "    }\n",
              "\n",
              "    .dataframe tbody tr th {\n",
              "        vertical-align: top;\n",
              "    }\n",
              "\n",
              "    .dataframe thead th {\n",
              "        text-align: right;\n",
              "    }\n",
              "</style>\n",
              "<table border=\"1\" class=\"dataframe\">\n",
              "  <thead>\n",
              "    <tr style=\"text-align: right;\">\n",
              "      <th></th>\n",
              "      <th>book_id</th>\n",
              "      <th>authors</th>\n",
              "      <th>original_title</th>\n",
              "      <th>average_rating</th>\n",
              "      <th>ratings_count</th>\n",
              "    </tr>\n",
              "  </thead>\n",
              "  <tbody>\n",
              "    <tr>\n",
              "      <th>0</th>\n",
              "      <td>10</td>\n",
              "      <td>J.K. Rowling</td>\n",
              "      <td>Harry Potter Collection (Harry Potter, #1-6)</td>\n",
              "      <td>4.73</td>\n",
              "      <td>24618</td>\n",
              "    </tr>\n",
              "    <tr>\n",
              "      <th>1000</th>\n",
              "      <td>30</td>\n",
              "      <td>J.R.R. Tolkien</td>\n",
              "      <td>The Hobbit and The Lord of the Rings</td>\n",
              "      <td>4.59</td>\n",
              "      <td>90907</td>\n",
              "    </tr>\n",
              "    <tr>\n",
              "      <th>2100</th>\n",
              "      <td>119</td>\n",
              "      <td>Gary Russell</td>\n",
              "      <td>The Lord of the Rings: The Art of The Fellowsh...</td>\n",
              "      <td>4.59</td>\n",
              "      <td>24340</td>\n",
              "    </tr>\n",
              "    <tr>\n",
              "      <th>41617</th>\n",
              "      <td>5417</td>\n",
              "      <td>Stephen King</td>\n",
              "      <td>Three Complete Novels: Carrie/Salem's Lot/The ...</td>\n",
              "      <td>4.52</td>\n",
              "      <td>11063</td>\n",
              "    </tr>\n",
              "    <tr>\n",
              "      <th>1100</th>\n",
              "      <td>33</td>\n",
              "      <td>J.R.R. Tolkien</td>\n",
              "      <td>The Lord of the Rings</td>\n",
              "      <td>4.47</td>\n",
              "      <td>389054</td>\n",
              "    </tr>\n",
              "    <tr>\n",
              "      <th>21793</th>\n",
              "      <td>3586</td>\n",
              "      <td>Arthur Conan Doyle, Kyle Freeman</td>\n",
              "      <td>Sherlock Holmes: The Complete Novels and Stori...</td>\n",
              "      <td>4.46</td>\n",
              "      <td>66857</td>\n",
              "    </tr>\n",
              "    <tr>\n",
              "      <th>38844</th>\n",
              "      <td>5289</td>\n",
              "      <td>Oscar Wilde, Merlin Holland</td>\n",
              "      <td>Collected Works</td>\n",
              "      <td>4.45</td>\n",
              "      <td>10835</td>\n",
              "    </tr>\n",
              "    <tr>\n",
              "      <th>21693</th>\n",
              "      <td>3581</td>\n",
              "      <td>Arthur Conan Doyle</td>\n",
              "      <td>Sherlock Holmes: The Complete Novels and Stori...</td>\n",
              "      <td>4.45</td>\n",
              "      <td>17950</td>\n",
              "    </tr>\n",
              "    <tr>\n",
              "      <th>44999</th>\n",
              "      <td>5936</td>\n",
              "      <td>Pablo Neruda, Ilan Stavans</td>\n",
              "      <td>The Poetry of Pablo Neruda</td>\n",
              "      <td>4.44</td>\n",
              "      <td>14596</td>\n",
              "    </tr>\n",
              "    <tr>\n",
              "      <th>21593</th>\n",
              "      <td>3579</td>\n",
              "      <td>L.M. Montgomery</td>\n",
              "      <td>The Complete Anne of Green Gables Boxed Set</td>\n",
              "      <td>4.42</td>\n",
              "      <td>92142</td>\n",
              "    </tr>\n",
              "  </tbody>\n",
              "</table>\n",
              "</div>"
            ],
            "text/plain": [
              "       book_id                           authors  ... average_rating  ratings_count\n",
              "0           10                      J.K. Rowling  ...           4.73          24618\n",
              "1000        30                    J.R.R. Tolkien  ...           4.59          90907\n",
              "2100       119                      Gary Russell  ...           4.59          24340\n",
              "41617     5417                      Stephen King  ...           4.52          11063\n",
              "1100        33                    J.R.R. Tolkien  ...           4.47         389054\n",
              "21793     3586  Arthur Conan Doyle, Kyle Freeman  ...           4.46          66857\n",
              "38844     5289       Oscar Wilde, Merlin Holland  ...           4.45          10835\n",
              "21693     3581                Arthur Conan Doyle  ...           4.45          17950\n",
              "44999     5936        Pablo Neruda, Ilan Stavans  ...           4.44          14596\n",
              "21593     3579                   L.M. Montgomery  ...           4.42          92142\n",
              "\n",
              "[10 rows x 5 columns]"
            ]
          },
          "metadata": {
            "tags": []
          },
          "execution_count": 23
        }
      ]
    },
    {
      "cell_type": "code",
      "metadata": {
        "id": "gXP5kaDcF4z1",
        "colab_type": "code",
        "colab": {
          "base_uri": "https://localhost:8080/",
          "height": 377
        },
        "outputId": "9e6bc7be-2861-428c-daf1-ac1c43dd2ace"
      },
      "source": [
        "#recommend based on ratings_count\n",
        "print(\"                                      Most Rated Books\")\n",
        "print(\"=======================================++++++++++++++=========================================\")\n",
        "most_rated_books = books_data\n",
        "most_rated_books = most_rated_books.drop_duplicates(subset = 'book_id',keep = 'first')\n",
        "most_rated_books = most_rated_books.drop(['user_id','rating','books_count','original_publication_year'], axis=1)\n",
        "most_rated_books.sort_values('ratings_count',ascending=False).head(10)"
      ],
      "execution_count": 24,
      "outputs": [
        {
          "output_type": "stream",
          "text": [
            "                                      Most Rated Books\n",
            "=======================================++++++++++++++=========================================\n"
          ],
          "name": "stdout"
        },
        {
          "output_type": "execute_result",
          "data": {
            "text/html": [
              "<div>\n",
              "<style scoped>\n",
              "    .dataframe tbody tr th:only-of-type {\n",
              "        vertical-align: middle;\n",
              "    }\n",
              "\n",
              "    .dataframe tbody tr th {\n",
              "        vertical-align: top;\n",
              "    }\n",
              "\n",
              "    .dataframe thead th {\n",
              "        text-align: right;\n",
              "    }\n",
              "</style>\n",
              "<table border=\"1\" class=\"dataframe\">\n",
              "  <thead>\n",
              "    <tr style=\"text-align: right;\">\n",
              "      <th></th>\n",
              "      <th>book_id</th>\n",
              "      <th>authors</th>\n",
              "      <th>original_title</th>\n",
              "      <th>average_rating</th>\n",
              "      <th>ratings_count</th>\n",
              "    </tr>\n",
              "  </thead>\n",
              "  <tbody>\n",
              "    <tr>\n",
              "      <th>16398</th>\n",
              "      <td>2657</td>\n",
              "      <td>Harper Lee</td>\n",
              "      <td>To Kill a Mockingbird</td>\n",
              "      <td>4.25</td>\n",
              "      <td>3198671</td>\n",
              "    </tr>\n",
              "    <tr>\n",
              "      <th>30251</th>\n",
              "      <td>4671</td>\n",
              "      <td>F. Scott Fitzgerald</td>\n",
              "      <td>The Great Gatsby</td>\n",
              "      <td>3.89</td>\n",
              "      <td>2683664</td>\n",
              "    </tr>\n",
              "    <tr>\n",
              "      <th>44899</th>\n",
              "      <td>5907</td>\n",
              "      <td>J.R.R. Tolkien</td>\n",
              "      <td>The Hobbit or There and Back Again</td>\n",
              "      <td>4.25</td>\n",
              "      <td>2071616</td>\n",
              "    </tr>\n",
              "    <tr>\n",
              "      <th>35360</th>\n",
              "      <td>5107</td>\n",
              "      <td>J.D. Salinger</td>\n",
              "      <td>The Catcher in the Rye</td>\n",
              "      <td>3.79</td>\n",
              "      <td>2044241</td>\n",
              "    </tr>\n",
              "    <tr>\n",
              "      <th>12400</th>\n",
              "      <td>1885</td>\n",
              "      <td>Jane Austen</td>\n",
              "      <td>Pride and Prejudice</td>\n",
              "      <td>4.24</td>\n",
              "      <td>2035490</td>\n",
              "    </tr>\n",
              "    <tr>\n",
              "      <th>7900</th>\n",
              "      <td>960</td>\n",
              "      <td>Dan Brown</td>\n",
              "      <td>Angels &amp; Demons</td>\n",
              "      <td>3.85</td>\n",
              "      <td>2001311</td>\n",
              "    </tr>\n",
              "    <tr>\n",
              "      <th>56303</th>\n",
              "      <td>7613</td>\n",
              "      <td>George Orwell</td>\n",
              "      <td>Animal Farm: A Fairy Story</td>\n",
              "      <td>3.87</td>\n",
              "      <td>1881700</td>\n",
              "    </tr>\n",
              "    <tr>\n",
              "      <th>1200</th>\n",
              "      <td>34</td>\n",
              "      <td>J.R.R. Tolkien</td>\n",
              "      <td>The Fellowship of the Ring</td>\n",
              "      <td>4.34</td>\n",
              "      <td>1766803</td>\n",
              "    </tr>\n",
              "    <tr>\n",
              "      <th>56403</th>\n",
              "      <td>7624</td>\n",
              "      <td>William Golding</td>\n",
              "      <td>Lord of the Flies</td>\n",
              "      <td>3.64</td>\n",
              "      <td>1605019</td>\n",
              "    </tr>\n",
              "    <tr>\n",
              "      <th>7300</th>\n",
              "      <td>890</td>\n",
              "      <td>John Steinbeck</td>\n",
              "      <td>Of Mice and Men</td>\n",
              "      <td>3.84</td>\n",
              "      <td>1467496</td>\n",
              "    </tr>\n",
              "  </tbody>\n",
              "</table>\n",
              "</div>"
            ],
            "text/plain": [
              "       book_id              authors  ... average_rating  ratings_count\n",
              "16398     2657           Harper Lee  ...           4.25        3198671\n",
              "30251     4671  F. Scott Fitzgerald  ...           3.89        2683664\n",
              "44899     5907       J.R.R. Tolkien  ...           4.25        2071616\n",
              "35360     5107        J.D. Salinger  ...           3.79        2044241\n",
              "12400     1885          Jane Austen  ...           4.24        2035490\n",
              "7900       960            Dan Brown  ...           3.85        2001311\n",
              "56303     7613        George Orwell  ...           3.87        1881700\n",
              "1200        34       J.R.R. Tolkien  ...           4.34        1766803\n",
              "56403     7624      William Golding  ...           3.64        1605019\n",
              "7300       890       John Steinbeck  ...           3.84        1467496\n",
              "\n",
              "[10 rows x 5 columns]"
            ]
          },
          "metadata": {
            "tags": []
          },
          "execution_count": 24
        }
      ]
    },
    {
      "cell_type": "markdown",
      "metadata": {
        "id": "xGfI_uBxTBDi",
        "colab_type": "text"
      },
      "source": [
        "### Get Customer Input for Recommendation ###"
      ]
    },
    {
      "cell_type": "markdown",
      "metadata": {
        "id": "OQvdW3t6TLTJ",
        "colab_type": "text"
      },
      "source": [
        "#### Get Customer Input for Authors Name and Recommend based on Popularity ####"
      ]
    },
    {
      "cell_type": "code",
      "metadata": {
        "id": "WWygZ86NTJZp",
        "colab_type": "code",
        "colab": {
          "base_uri": "https://localhost:8080/",
          "height": 212
        },
        "outputId": "638d2ebb-e6b6-41a1-cbaa-e21d604c2629"
      },
      "source": [
        "#get Customer input for their favourite authors name and recommend the books with the authors name based on popularity\n",
        "\n",
        "authors_input = input(\"Enter the name of authors that you are interested: \")\n",
        "author_recommend = books_data[books_data.authors == (authors_input)]\n",
        "author_recommend = author_recommend.drop_duplicates(subset = 'book_id',keep = 'first')\n",
        "author_recommend = author_recommend.drop(['user_id'],axis=1)\n",
        "author_recommend.sort_values('rating',ascending=False).head()"
      ],
      "execution_count": 32,
      "outputs": [
        {
          "output_type": "stream",
          "text": [
            "Enter the name of authors that you are interested: Kurt Vonnegut Jr.\n"
          ],
          "name": "stdout"
        },
        {
          "output_type": "execute_result",
          "data": {
            "text/html": [
              "<div>\n",
              "<style scoped>\n",
              "    .dataframe tbody tr th:only-of-type {\n",
              "        vertical-align: middle;\n",
              "    }\n",
              "\n",
              "    .dataframe tbody tr th {\n",
              "        vertical-align: top;\n",
              "    }\n",
              "\n",
              "    .dataframe thead th {\n",
              "        text-align: right;\n",
              "    }\n",
              "</style>\n",
              "<table border=\"1\" class=\"dataframe\">\n",
              "  <thead>\n",
              "    <tr style=\"text-align: right;\">\n",
              "      <th></th>\n",
              "      <th>book_id</th>\n",
              "      <th>rating</th>\n",
              "      <th>books_count</th>\n",
              "      <th>authors</th>\n",
              "      <th>original_publication_year</th>\n",
              "      <th>original_title</th>\n",
              "      <th>average_rating</th>\n",
              "      <th>ratings_count</th>\n",
              "    </tr>\n",
              "  </thead>\n",
              "  <tbody>\n",
              "    <tr>\n",
              "      <th>33041</th>\n",
              "      <td>4979</td>\n",
              "      <td>5</td>\n",
              "      <td>64</td>\n",
              "      <td>Kurt Vonnegut Jr.</td>\n",
              "      <td>2005.0</td>\n",
              "      <td>A Man Without a Country</td>\n",
              "      <td>4.07</td>\n",
              "      <td>29859</td>\n",
              "    </tr>\n",
              "    <tr>\n",
              "      <th>33239</th>\n",
              "      <td>4981</td>\n",
              "      <td>5</td>\n",
              "      <td>241</td>\n",
              "      <td>Kurt Vonnegut Jr.</td>\n",
              "      <td>1969.0</td>\n",
              "      <td>Slaughterhouse-Five, or The Children's Crusade...</td>\n",
              "      <td>4.06</td>\n",
              "      <td>846488</td>\n",
              "    </tr>\n",
              "    <tr>\n",
              "      <th>33627</th>\n",
              "      <td>4985</td>\n",
              "      <td>5</td>\n",
              "      <td>67</td>\n",
              "      <td>Kurt Vonnegut Jr.</td>\n",
              "      <td>1968.0</td>\n",
              "      <td>Welcome to the Monkey House</td>\n",
              "      <td>4.13</td>\n",
              "      <td>40071</td>\n",
              "    </tr>\n",
              "    <tr>\n",
              "      <th>68204</th>\n",
              "      <td>9589</td>\n",
              "      <td>5</td>\n",
              "      <td>76</td>\n",
              "      <td>Kurt Vonnegut Jr.</td>\n",
              "      <td>1990.0</td>\n",
              "      <td>Hocus Pocus</td>\n",
              "      <td>3.81</td>\n",
              "      <td>23046</td>\n",
              "    </tr>\n",
              "    <tr>\n",
              "      <th>68577</th>\n",
              "      <td>9595</td>\n",
              "      <td>5</td>\n",
              "      <td>65</td>\n",
              "      <td>Kurt Vonnegut Jr.</td>\n",
              "      <td>1976.0</td>\n",
              "      <td>Slapstick</td>\n",
              "      <td>3.87</td>\n",
              "      <td>27371</td>\n",
              "    </tr>\n",
              "  </tbody>\n",
              "</table>\n",
              "</div>"
            ],
            "text/plain": [
              "       book_id  rating  ...  average_rating ratings_count\n",
              "33041     4979       5  ...            4.07         29859\n",
              "33239     4981       5  ...            4.06        846488\n",
              "33627     4985       5  ...            4.13         40071\n",
              "68204     9589       5  ...            3.81         23046\n",
              "68577     9595       5  ...            3.87         27371\n",
              "\n",
              "[5 rows x 8 columns]"
            ]
          },
          "metadata": {
            "tags": []
          },
          "execution_count": 32
        }
      ]
    },
    {
      "cell_type": "markdown",
      "metadata": {
        "id": "_U4EbEahbOx7",
        "colab_type": "text"
      },
      "source": [
        "#### Get Customer Input for Original Publication Year and Recommend based on Popularity ####"
      ]
    },
    {
      "cell_type": "code",
      "metadata": {
        "id": "d0H1Hr-sbNxU",
        "colab_type": "code",
        "colab": {
          "base_uri": "https://localhost:8080/",
          "height": 212
        },
        "outputId": "fa3cd0df-c5f3-45a8-b558-eff9db716265"
      },
      "source": [
        "#get Customer input for their original publication year and recommend the books with the authors name based on popularity\n",
        "\n",
        "year_input = int(input(\"Enter the name of original publication year that you are interested: \"))\n",
        "book_recommend = books_data[books_data.original_publication_year == (year_input)]\n",
        "book_recommend = book_recommend.drop_duplicates(subset = 'book_id',keep = 'first')\n",
        "book_recommend = book_recommend.drop(['user_id'],axis=1)\n",
        "book_recommend.sort_values('rating',ascending=False).head()"
      ],
      "execution_count": 33,
      "outputs": [
        {
          "output_type": "stream",
          "text": [
            "Enter the name of original publication year that you are interested: 2000\n"
          ],
          "name": "stdout"
        },
        {
          "output_type": "execute_result",
          "data": {
            "text/html": [
              "<div>\n",
              "<style scoped>\n",
              "    .dataframe tbody tr th:only-of-type {\n",
              "        vertical-align: middle;\n",
              "    }\n",
              "\n",
              "    .dataframe tbody tr th {\n",
              "        vertical-align: top;\n",
              "    }\n",
              "\n",
              "    .dataframe thead th {\n",
              "        text-align: right;\n",
              "    }\n",
              "</style>\n",
              "<table border=\"1\" class=\"dataframe\">\n",
              "  <thead>\n",
              "    <tr style=\"text-align: right;\">\n",
              "      <th></th>\n",
              "      <th>book_id</th>\n",
              "      <th>rating</th>\n",
              "      <th>books_count</th>\n",
              "      <th>authors</th>\n",
              "      <th>original_publication_year</th>\n",
              "      <th>original_title</th>\n",
              "      <th>average_rating</th>\n",
              "      <th>ratings_count</th>\n",
              "    </tr>\n",
              "  </thead>\n",
              "  <tbody>\n",
              "    <tr>\n",
              "      <th>37951</th>\n",
              "      <td>5190</td>\n",
              "      <td>5</td>\n",
              "      <td>37</td>\n",
              "      <td>Elizabeth Berg</td>\n",
              "      <td>2000.0</td>\n",
              "      <td>Open House</td>\n",
              "      <td>3.68</td>\n",
              "      <td>48639</td>\n",
              "    </tr>\n",
              "    <tr>\n",
              "      <th>16098</th>\n",
              "      <td>2612</td>\n",
              "      <td>5</td>\n",
              "      <td>100</td>\n",
              "      <td>Malcolm Gladwell</td>\n",
              "      <td>2000.0</td>\n",
              "      <td>The Tipping Point: How Little Things Can Make ...</td>\n",
              "      <td>3.92</td>\n",
              "      <td>490504</td>\n",
              "    </tr>\n",
              "    <tr>\n",
              "      <th>19398</th>\n",
              "      <td>3368</td>\n",
              "      <td>5</td>\n",
              "      <td>44</td>\n",
              "      <td>Steve Krug</td>\n",
              "      <td>2000.0</td>\n",
              "      <td>Don't Make Me Think! A common sense approach t...</td>\n",
              "      <td>4.24</td>\n",
              "      <td>7296</td>\n",
              "    </tr>\n",
              "    <tr>\n",
              "      <th>65051</th>\n",
              "      <td>8965</td>\n",
              "      <td>5</td>\n",
              "      <td>78</td>\n",
              "      <td>Darren Shan</td>\n",
              "      <td>2000.0</td>\n",
              "      <td>The Vampire's Assistant (Cirque du Freak, #2)</td>\n",
              "      <td>4.12</td>\n",
              "      <td>29943</td>\n",
              "    </tr>\n",
              "    <tr>\n",
              "      <th>62690</th>\n",
              "      <td>8680</td>\n",
              "      <td>5</td>\n",
              "      <td>38</td>\n",
              "      <td>Tom Robbins</td>\n",
              "      <td>2000.0</td>\n",
              "      <td>Fierce Invalids Home From Hot Climates</td>\n",
              "      <td>4.01</td>\n",
              "      <td>22847</td>\n",
              "    </tr>\n",
              "  </tbody>\n",
              "</table>\n",
              "</div>"
            ],
            "text/plain": [
              "       book_id  rating  ...  average_rating ratings_count\n",
              "37951     5190       5  ...            3.68         48639\n",
              "16098     2612       5  ...            3.92        490504\n",
              "19398     3368       5  ...            4.24          7296\n",
              "65051     8965       5  ...            4.12         29943\n",
              "62690     8680       5  ...            4.01         22847\n",
              "\n",
              "[5 rows x 8 columns]"
            ]
          },
          "metadata": {
            "tags": []
          },
          "execution_count": 33
        }
      ]
    },
    {
      "cell_type": "markdown",
      "metadata": {
        "id": "BxX0-jmouazS",
        "colab_type": "text"
      },
      "source": [
        "##Content-Based Filtering##"
      ]
    },
    {
      "cell_type": "markdown",
      "metadata": {
        "id": "HPDvP6vm-vdN",
        "colab_type": "text"
      },
      "source": [
        "#### Get Customer Input for Original Title and Recommend Similar Books based on Popularity ####"
      ]
    },
    {
      "cell_type": "code",
      "metadata": {
        "id": "Hsa6X1uTfKQ5",
        "colab_type": "code",
        "colab": {}
      },
      "source": [
        "#split the datasets into training(80%) and testing(20%)\n",
        "from sklearn.model_selection import train_test_split\n",
        "train, test = train_test_split(books_data, test_size=0.2)"
      ],
      "execution_count": 25,
      "outputs": []
    },
    {
      "cell_type": "code",
      "metadata": {
        "id": "E96Jx9pNkpAx",
        "colab_type": "code",
        "colab": {}
      },
      "source": [
        "#Class for Item similarity based Recommender System model\n",
        "class item_similarity_recommender_py():\n",
        "    def __init__(self):\n",
        "        self.train_data = None\n",
        "        self.user_id = None\n",
        "        self.book_id = None\n",
        "        self.cooccurence_matrix = None\n",
        "        self.books_dict = None\n",
        "        self.rev_books_dict = None\n",
        "        self.item_similarity_recommendations = None\n",
        "        \n",
        "    #Get unique items (books) corresponding to a given user\n",
        "    def get_user_items(self, user):\n",
        "        user_data = self.train_data[self.train_data[self.user_id] == user]\n",
        "        user_items = list(user_data[self.book_id].unique())\n",
        "        \n",
        "        return user_items\n",
        "        \n",
        "    #Get unique users for a given item (books)\n",
        "    def get_item_users(self, item):\n",
        "        item_data = self.train_data[self.train_data[self.book_id] == item]\n",
        "        item_users = set(item_data[self.user_id].unique())\n",
        "            \n",
        "        return item_users\n",
        "        \n",
        "    #Get unique items (books) in the training data\n",
        "    def get_all_items_train_data(self):\n",
        "        all_items = list(self.train_data[self.book_id].unique())\n",
        "            \n",
        "        return all_items\n",
        "        \n",
        "    #Construct cooccurence matrix\n",
        "    def construct_cooccurence_matrix(self, user_books, all_books):\n",
        "            \n",
        "        ####################################\n",
        "        #Get users for all books in user_books.\n",
        "        ####################################\n",
        "        user_books_users = []        \n",
        "        for i in range(0, len(user_books)):\n",
        "            user_books_users.append(self.get_item_users(user_books[i]))\n",
        "            \n",
        "        ###############################################\n",
        "        #cooccurence matric is an item-item matrix\n",
        "        #each element means how many times both items bought together by a user\n",
        "        #Initialize the item cooccurence matrix of size \n",
        "        #len(user_books) X len(books)\n",
        "        ###############################################\n",
        "        cooccurence_matrix = np.matrix(np.zeros(shape=(len(user_books), len(all_books))), float)\n",
        "           \n",
        "        #############################################################\n",
        "        #Calculate similarity between user books and all unique books\n",
        "        #in the training data\n",
        "        #############################################################\n",
        "        for i in range(0,len(all_books)):\n",
        "            #Calculate users of books (item) i\n",
        "            books_i_data = self.train_data[self.train_data[self.book_id] == all_books[i]]\n",
        "            users_i = set(books_i_data[self.user_id].unique())\n",
        "            \n",
        "            for j in range(0,len(user_books)):       \n",
        "                    \n",
        "                #Get unique users of books (item) j\n",
        "                users_j = user_books_users[j]\n",
        "                    \n",
        "                #Calculate intersection of users of books i and j\n",
        "                users_intersection = users_i.intersection(users_j)\n",
        "                \n",
        "                #Calculate cooccurence_matrix[i,j] as Jaccard Index\n",
        "                if len(users_intersection) != 0:\n",
        "                    #Calculate union of users of books i and j\n",
        "                    users_union = users_i.union(users_j)\n",
        "                    \n",
        "                    cooccurence_matrix[j,i] = float(len(users_intersection))/float(len(users_union))\n",
        "                else:\n",
        "                    cooccurence_matrix[j,i] = 0\n",
        "                    \n",
        "        \n",
        "        return cooccurence_matrix\n",
        "\n",
        "    \n",
        "    #Use the cooccurence matrix to make top recommendations\n",
        "    def generate_top_recommendations(self, user, cooccurence_matrix, all_books, user_books):\n",
        "        print(\"Non zero values in cooccurence_matrix :%d\" % np.count_nonzero(cooccurence_matrix))\n",
        "        \n",
        "        #Calculate a weighted average of the scores in cooccurence matrix for all user books.\n",
        "        user_sim_scores = cooccurence_matrix.sum(axis=0)/float(cooccurence_matrix.shape[0])\n",
        "        user_sim_scores = np.array(user_sim_scores)[0].tolist()\n",
        " \n",
        "        #Sort the indices of user_sim_scores based upon their value\n",
        "        #Also maintain the corresponding score\n",
        "        sort_index = sorted(((e,i) for i,e in enumerate(list(user_sim_scores))), reverse=True)\n",
        "    \n",
        "        #Create a dataframe from the following\n",
        "        columns = ['User_ID','Title', 'Score', 'Rank']\n",
        "        #index = np.arange(1) # array of numbers for the number of samples\n",
        "        df = pd.DataFrame(columns=columns)\n",
        "         \n",
        "        #Fill the dataframe with top 10 item based recommendations\n",
        "        rank = 1 \n",
        "        for i in range(0,len(sort_index)):\n",
        "            if ~np.isnan(sort_index[i][0]) and all_books[sort_index[i][1]] not in user_books and rank <= 10:\n",
        "                df.loc[len(df)]=[user,all_books[sort_index[i][1]],sort_index[i][0],rank]\n",
        "                rank = rank+1\n",
        "        \n",
        "        #Handle the case where there are no recommendations\n",
        "        if df.shape[0] == 0:\n",
        "            print(\"The current user has no books for training the item similarity based recommendation model.\")\n",
        "            return -1\n",
        "        else:\n",
        "            return df\n",
        " \n",
        "    #Create the item similarity based recommender system model\n",
        "    def create(self, train_data, user_id, book_id):\n",
        "        self.train_data = train_data\n",
        "        self.user_id = user_id\n",
        "        self.book_id = book_id\n",
        "\n",
        "    #Use the item similarity based recommender system model to\n",
        "    #make recommendations\n",
        "    def recommend(self, user):\n",
        "        \n",
        "        ########################################\n",
        "        #A. Get all unique books for this user\n",
        "        ########################################\n",
        "        user_books = self.get_user_items(user)    \n",
        "            \n",
        "        print(\"No. of unique books for the user: %d\" % len(user_books))\n",
        "        \n",
        "        ######################################################\n",
        "        #B. Get all unique items (books) in the training data\n",
        "        ######################################################\n",
        "        all_books = self.get_all_items_train_data()\n",
        "        \n",
        "        print(\"no. of unique books in the training set: %d\" % len(all_books))\n",
        "         \n",
        "        ###############################################\n",
        "        #C. Construct item cooccurence matrix of size \n",
        "        #len(user_books) X len(books)\n",
        "        ###############################################\n",
        "        cooccurence_matrix = self.construct_cooccurence_matrix(user_books, all_books)\n",
        "        \n",
        "        #######################################################\n",
        "        #D. Use the cooccurence matrix to make recommendations\n",
        "        #######################################################\n",
        "        df_recommendations = self.generate_top_recommendations(user, cooccurence_matrix, all_books, user_books)\n",
        "                \n",
        "        return df_recommendations\n",
        "    \n",
        "    #Get similar items to given items\n",
        "    def get_similar_items(self, item_list):\n",
        "        \n",
        "        user_books = item_list\n",
        "        \n",
        "        ######################################################\n",
        "        #B. Get all unique items (books) in the training data\n",
        "        ######################################################\n",
        "        all_books = self.get_all_items_train_data()\n",
        "        \n",
        "        print(\"no. of unique books in the training set: %d\" % len(all_books))\n",
        "         \n",
        "        ###############################################\n",
        "        #C. Construct item cooccurence matrix of size \n",
        "        #len(user_books) X len(books)\n",
        "        ###############################################\n",
        "        cooccurence_matrix = self.construct_cooccurence_matrix(user_books, all_books)\n",
        "        \n",
        "        #######################################################\n",
        "        #D. Use the cooccurence matrix to make recommendations\n",
        "        #######################################################\n",
        "        user = \"\"\n",
        "        df_recommendations = self.generate_top_recommendations(user, cooccurence_matrix, all_books, user_books)\n",
        "         \n",
        "        return df_recommendations"
      ],
      "execution_count": 34,
      "outputs": []
    },
    {
      "cell_type": "code",
      "metadata": {
        "id": "zRaxv0S1-80b",
        "colab_type": "code",
        "colab": {
          "base_uri": "https://localhost:8080/",
          "height": 394
        },
        "outputId": "f1ba4ae7-e23a-42ec-b64e-2977c69fad83"
      },
      "source": [
        "#get Customer input for the original title and recommend the books which is similar to the title entered and get top recommendations\n",
        "title_input = input(\"Enter the title of the book that you are interested: \")\n",
        "\n",
        "#create an instance for the class\n",
        "is_model = item_similarity_recommender_py()\n",
        "is_model.create(train, 'user_id', 'original_title')\n",
        "\n",
        "#get similar books to the books entered by the Customer\n",
        "is_model.get_similar_items([title_input])"
      ],
      "execution_count": 36,
      "outputs": [
        {
          "output_type": "stream",
          "text": [
            "Enter the title of the book that you are interested: Jurassic Park\n",
            "no. of unique books in the training set: 724\n",
            "Non zero values in cooccurence_matrix :72\n"
          ],
          "name": "stdout"
        },
        {
          "output_type": "execute_result",
          "data": {
            "text/html": [
              "<div>\n",
              "<style scoped>\n",
              "    .dataframe tbody tr th:only-of-type {\n",
              "        vertical-align: middle;\n",
              "    }\n",
              "\n",
              "    .dataframe tbody tr th {\n",
              "        vertical-align: top;\n",
              "    }\n",
              "\n",
              "    .dataframe thead th {\n",
              "        text-align: right;\n",
              "    }\n",
              "</style>\n",
              "<table border=\"1\" class=\"dataframe\">\n",
              "  <thead>\n",
              "    <tr style=\"text-align: right;\">\n",
              "      <th></th>\n",
              "      <th>User_ID</th>\n",
              "      <th>Title</th>\n",
              "      <th>Score</th>\n",
              "      <th>Rank</th>\n",
              "    </tr>\n",
              "  </thead>\n",
              "  <tbody>\n",
              "    <tr>\n",
              "      <th>0</th>\n",
              "      <td></td>\n",
              "      <td>The Burden of Proof</td>\n",
              "      <td>0.030075</td>\n",
              "      <td>1</td>\n",
              "    </tr>\n",
              "    <tr>\n",
              "      <th>1</th>\n",
              "      <td></td>\n",
              "      <td>Anansi Boys</td>\n",
              "      <td>0.023810</td>\n",
              "      <td>2</td>\n",
              "    </tr>\n",
              "    <tr>\n",
              "      <th>2</th>\n",
              "      <td></td>\n",
              "      <td>World War Z: An Oral History of the Zombie War</td>\n",
              "      <td>0.016129</td>\n",
              "      <td>3</td>\n",
              "    </tr>\n",
              "    <tr>\n",
              "      <th>3</th>\n",
              "      <td></td>\n",
              "      <td>Treasure Island</td>\n",
              "      <td>0.015504</td>\n",
              "      <td>4</td>\n",
              "    </tr>\n",
              "    <tr>\n",
              "      <th>4</th>\n",
              "      <td></td>\n",
              "      <td>Holidays on Ice</td>\n",
              "      <td>0.015385</td>\n",
              "      <td>5</td>\n",
              "    </tr>\n",
              "    <tr>\n",
              "      <th>5</th>\n",
              "      <td></td>\n",
              "      <td>Zodiac</td>\n",
              "      <td>0.015385</td>\n",
              "      <td>6</td>\n",
              "    </tr>\n",
              "    <tr>\n",
              "      <th>6</th>\n",
              "      <td></td>\n",
              "      <td>The Hitchhiker's Guide to the Galaxy</td>\n",
              "      <td>0.015152</td>\n",
              "      <td>7</td>\n",
              "    </tr>\n",
              "    <tr>\n",
              "      <th>7</th>\n",
              "      <td></td>\n",
              "      <td>Cryptonomicon</td>\n",
              "      <td>0.014925</td>\n",
              "      <td>8</td>\n",
              "    </tr>\n",
              "    <tr>\n",
              "      <th>8</th>\n",
              "      <td></td>\n",
              "      <td>Tunnels of Blood (Cirque du Freak, #3)</td>\n",
              "      <td>0.014815</td>\n",
              "      <td>9</td>\n",
              "    </tr>\n",
              "    <tr>\n",
              "      <th>9</th>\n",
              "      <td></td>\n",
              "      <td>The World Is Flat: A Brief History of the Twen...</td>\n",
              "      <td>0.014815</td>\n",
              "      <td>10</td>\n",
              "    </tr>\n",
              "  </tbody>\n",
              "</table>\n",
              "</div>"
            ],
            "text/plain": [
              "  User_ID                                              Title     Score Rank\n",
              "0                                        The Burden of Proof  0.030075    1\n",
              "1                                                Anansi Boys  0.023810    2\n",
              "2             World War Z: An Oral History of the Zombie War  0.016129    3\n",
              "3                                            Treasure Island  0.015504    4\n",
              "4                                            Holidays on Ice  0.015385    5\n",
              "5                                                     Zodiac  0.015385    6\n",
              "6                       The Hitchhiker's Guide to the Galaxy  0.015152    7\n",
              "7                                              Cryptonomicon  0.014925    8\n",
              "8                    Tunnels of Blood (Cirque du Freak, #3)   0.014815    9\n",
              "9          The World Is Flat: A Brief History of the Twen...  0.014815   10"
            ]
          },
          "metadata": {
            "tags": []
          },
          "execution_count": 36
        }
      ]
    },
    {
      "cell_type": "markdown",
      "metadata": {
        "id": "uKAz7s9yPAtb",
        "colab_type": "text"
      },
      "source": [
        "#### Get Customer Input for User ID and Recommend based on User-Item Similarity ####"
      ]
    },
    {
      "cell_type": "code",
      "metadata": {
        "id": "OQFNrbPzmJu6",
        "colab_type": "code",
        "colab": {
          "base_uri": "https://localhost:8080/",
          "height": 612
        },
        "outputId": "c330a9e4-5557-4e96-c96d-51a413f4852d"
      },
      "source": [
        "userID_input = int(input(\"Please enter you user ID: \"))\n",
        "\n",
        "#Print the books purchased by the Customer by using training dataset\n",
        "user_items = is_model.get_user_items(userID_input)\n",
        "print(\"-------------------------------------------------------------------------\")\n",
        "print(\"Books purchased by customer with user ID : %s\" % userID_input)\n",
        "print(\"-------------------------------------------------------------------------\")\n",
        "\n",
        "for user_item in user_items:\n",
        "    print(user_item)\n",
        "\n",
        "print(\"----------------------------------------------------------------------\")\n",
        "print(\"Recommendation process going on:\")\n",
        "print(\"----------------------------------------------------------------------\")\n",
        "\n",
        "#user-item similarity\n",
        "#Recommend customer the books which is similar to the books purchased by customer \n",
        "is_model.recommend(userID_input)"
      ],
      "execution_count": 38,
      "outputs": [
        {
          "output_type": "stream",
          "text": [
            "Please enter you user ID: 314\n",
            "-------------------------------------------------------------------------\n",
            "Books purchased by customer with user ID : 314\n",
            "-------------------------------------------------------------------------\n",
            "Deception Point\n",
            "Dune Messiah \n",
            "Play It as It Lays\n",
            "The Long Goodbye\n",
            "The Door into Summer\n",
            "Chapterhouse: Dune\n",
            "----------------------------------------------------------------------\n",
            "Recommendation process going on:\n",
            "----------------------------------------------------------------------\n",
            "No. of unique books for the user: 6\n",
            "no. of unique books in the training set: 724\n",
            "Non zero values in cooccurence_matrix :1414\n"
          ],
          "name": "stdout"
        },
        {
          "output_type": "execute_result",
          "data": {
            "text/html": [
              "<div>\n",
              "<style scoped>\n",
              "    .dataframe tbody tr th:only-of-type {\n",
              "        vertical-align: middle;\n",
              "    }\n",
              "\n",
              "    .dataframe tbody tr th {\n",
              "        vertical-align: top;\n",
              "    }\n",
              "\n",
              "    .dataframe thead th {\n",
              "        text-align: right;\n",
              "    }\n",
              "</style>\n",
              "<table border=\"1\" class=\"dataframe\">\n",
              "  <thead>\n",
              "    <tr style=\"text-align: right;\">\n",
              "      <th></th>\n",
              "      <th>User_ID</th>\n",
              "      <th>Title</th>\n",
              "      <th>Score</th>\n",
              "      <th>Rank</th>\n",
              "    </tr>\n",
              "  </thead>\n",
              "  <tbody>\n",
              "    <tr>\n",
              "      <th>0</th>\n",
              "      <td>314</td>\n",
              "      <td>The Fellowship of the Ring</td>\n",
              "      <td>0.056285</td>\n",
              "      <td>1</td>\n",
              "    </tr>\n",
              "    <tr>\n",
              "      <th>1</th>\n",
              "      <td>314</td>\n",
              "      <td>The Hobbit and The Lord of the Rings</td>\n",
              "      <td>0.055041</td>\n",
              "      <td>2</td>\n",
              "    </tr>\n",
              "    <tr>\n",
              "      <th>2</th>\n",
              "      <td>314</td>\n",
              "      <td>Children of Dune</td>\n",
              "      <td>0.037759</td>\n",
              "      <td>3</td>\n",
              "    </tr>\n",
              "    <tr>\n",
              "      <th>3</th>\n",
              "      <td>314</td>\n",
              "      <td>Collapse: How Societies Chose to Fail or Succeed</td>\n",
              "      <td>0.037711</td>\n",
              "      <td>4</td>\n",
              "    </tr>\n",
              "    <tr>\n",
              "      <th>4</th>\n",
              "      <td>314</td>\n",
              "      <td>L'Amant</td>\n",
              "      <td>0.035592</td>\n",
              "      <td>5</td>\n",
              "    </tr>\n",
              "    <tr>\n",
              "      <th>5</th>\n",
              "      <td>314</td>\n",
              "      <td>Job: A Comedy of Justice</td>\n",
              "      <td>0.032775</td>\n",
              "      <td>6</td>\n",
              "    </tr>\n",
              "    <tr>\n",
              "      <th>6</th>\n",
              "      <td>314</td>\n",
              "      <td>Neither Here Nor There: Travels in Europe</td>\n",
              "      <td>0.032542</td>\n",
              "      <td>7</td>\n",
              "    </tr>\n",
              "    <tr>\n",
              "      <th>7</th>\n",
              "      <td>314</td>\n",
              "      <td>Moon Palace</td>\n",
              "      <td>0.031691</td>\n",
              "      <td>8</td>\n",
              "    </tr>\n",
              "    <tr>\n",
              "      <th>8</th>\n",
              "      <td>314</td>\n",
              "      <td>What to Expect the First Year</td>\n",
              "      <td>0.031053</td>\n",
              "      <td>9</td>\n",
              "    </tr>\n",
              "    <tr>\n",
              "      <th>9</th>\n",
              "      <td>314</td>\n",
              "      <td>The Ultimate Hitchhiker's Guide: Five Complete...</td>\n",
              "      <td>0.030984</td>\n",
              "      <td>10</td>\n",
              "    </tr>\n",
              "  </tbody>\n",
              "</table>\n",
              "</div>"
            ],
            "text/plain": [
              "  User_ID                                              Title     Score Rank\n",
              "0     314                         The Fellowship of the Ring  0.056285    1\n",
              "1     314               The Hobbit and The Lord of the Rings  0.055041    2\n",
              "2     314                                   Children of Dune  0.037759    3\n",
              "3     314   Collapse: How Societies Chose to Fail or Succeed  0.037711    4\n",
              "4     314                                            L'Amant  0.035592    5\n",
              "5     314                           Job: A Comedy of Justice  0.032775    6\n",
              "6     314          Neither Here Nor There: Travels in Europe  0.032542    7\n",
              "7     314                                        Moon Palace  0.031691    8\n",
              "8     314                      What to Expect the First Year  0.031053    9\n",
              "9     314  The Ultimate Hitchhiker's Guide: Five Complete...  0.030984   10"
            ]
          },
          "metadata": {
            "tags": []
          },
          "execution_count": 38
        }
      ]
    },
    {
      "cell_type": "markdown",
      "metadata": {
        "id": "6FRrlWQkaE5P",
        "colab_type": "text"
      },
      "source": [
        "##User-based Collaborative Filtering##"
      ]
    },
    {
      "cell_type": "markdown",
      "metadata": {
        "id": "75fVcFAyyrM4",
        "colab_type": "text"
      },
      "source": [
        "#### Predict Rating ####"
      ]
    },
    {
      "cell_type": "code",
      "metadata": {
        "id": "zzcp7dTFjIHz",
        "colab_type": "code",
        "colab": {
          "base_uri": "https://localhost:8080/",
          "height": 302
        },
        "outputId": "31bb9553-f139-4952-e803-d160cbb348ad"
      },
      "source": [
        "!pip install --upgrade surprise\n",
        "import surprise\n",
        "from surprise import Reader, Dataset, SVD\n",
        "reader = Reader()\n",
        "\n",
        "from surprise.model_selection import KFold\n",
        "data = Dataset.load_from_df(books_data[['user_id', 'book_id', 'rating']], reader)\n",
        "\n",
        "#n_splits = number of folds\n",
        "kf = KFold(n_splits=5)\n",
        "\n",
        "#each fold is used once as a testset, the k-1 remaining folds are used for training\n",
        "kf.split(data) #to split dataset into trainsets and testsets"
      ],
      "execution_count": 39,
      "outputs": [
        {
          "output_type": "stream",
          "text": [
            "Collecting surprise\n",
            "  Downloading https://files.pythonhosted.org/packages/61/de/e5cba8682201fcf9c3719a6fdda95693468ed061945493dea2dd37c5618b/surprise-0.1-py2.py3-none-any.whl\n",
            "Collecting scikit-surprise\n",
            "\u001b[?25l  Downloading https://files.pythonhosted.org/packages/97/37/5d334adaf5ddd65da99fc65f6507e0e4599d092ba048f4302fe8775619e8/scikit-surprise-1.1.1.tar.gz (11.8MB)\n",
            "\u001b[K     |████████████████████████████████| 11.8MB 345kB/s \n",
            "\u001b[?25hRequirement already satisfied, skipping upgrade: joblib>=0.11 in /usr/local/lib/python3.6/dist-packages (from scikit-surprise->surprise) (0.16.0)\n",
            "Requirement already satisfied, skipping upgrade: numpy>=1.11.2 in /usr/local/lib/python3.6/dist-packages (from scikit-surprise->surprise) (1.18.5)\n",
            "Requirement already satisfied, skipping upgrade: scipy>=1.0.0 in /usr/local/lib/python3.6/dist-packages (from scikit-surprise->surprise) (1.4.1)\n",
            "Requirement already satisfied, skipping upgrade: six>=1.10.0 in /usr/local/lib/python3.6/dist-packages (from scikit-surprise->surprise) (1.15.0)\n",
            "Building wheels for collected packages: scikit-surprise\n",
            "  Building wheel for scikit-surprise (setup.py) ... \u001b[?25l\u001b[?25hdone\n",
            "  Created wheel for scikit-surprise: filename=scikit_surprise-1.1.1-cp36-cp36m-linux_x86_64.whl size=1670926 sha256=8c0df9e198468d18abe40ccecddbeb90152b6bf253b7410d70f5355d0d4a9d5e\n",
            "  Stored in directory: /root/.cache/pip/wheels/78/9c/3d/41b419c9d2aff5b6e2b4c0fc8d25c538202834058f9ed110d0\n",
            "Successfully built scikit-surprise\n",
            "Installing collected packages: scikit-surprise, surprise\n",
            "Successfully installed scikit-surprise-1.1.1 surprise-0.1\n"
          ],
          "name": "stdout"
        },
        {
          "output_type": "execute_result",
          "data": {
            "text/plain": [
              "<generator object KFold.split at 0x7fa281dd7e60>"
            ]
          },
          "metadata": {
            "tags": []
          },
          "execution_count": 39
        }
      ]
    },
    {
      "cell_type": "code",
      "metadata": {
        "id": "8Tl9h_E4js5D",
        "colab_type": "code",
        "colab": {
          "base_uri": "https://localhost:8080/",
          "height": 336
        },
        "outputId": "147c8f6e-bac3-4034-9716-e7c58a52e746"
      },
      "source": [
        "from surprise.model_selection import cross_validate\n",
        "svd = SVD()\n",
        "\n",
        "# Run 5-fold cross-validation and then print results\n",
        "cross_validate(svd, data, measures=['RMSE', 'MAE'], cv=5, verbose=True)"
      ],
      "execution_count": 41,
      "outputs": [
        {
          "output_type": "stream",
          "text": [
            "Evaluating RMSE, MAE of algorithm SVD on 5 split(s).\n",
            "\n",
            "                  Fold 1  Fold 2  Fold 3  Fold 4  Fold 5  Mean    Std     \n",
            "RMSE (testset)    0.9031  0.9231  0.9110  0.9087  0.9159  0.9124  0.0068  \n",
            "MAE (testset)     0.7227  0.7421  0.7272  0.7257  0.7331  0.7302  0.0068  \n",
            "Fit time          4.27    4.23    4.21    4.13    4.16    4.20    0.05    \n",
            "Test time         0.25    0.12    0.12    0.12    0.23    0.17    0.06    \n"
          ],
          "name": "stdout"
        },
        {
          "output_type": "execute_result",
          "data": {
            "text/plain": [
              "{'fit_time': (4.269509315490723,\n",
              "  4.229424953460693,\n",
              "  4.209176778793335,\n",
              "  4.129812955856323,\n",
              "  4.158658742904663),\n",
              " 'test_mae': array([0.72274509, 0.74205778, 0.72720751, 0.7257457 , 0.73313479]),\n",
              " 'test_rmse': array([0.90309948, 0.92311776, 0.91099915, 0.90872126, 0.9159328 ]),\n",
              " 'test_time': (0.24516630172729492,\n",
              "  0.11726951599121094,\n",
              "  0.11555671691894531,\n",
              "  0.12193560600280762,\n",
              "  0.22974848747253418)}"
            ]
          },
          "metadata": {
            "tags": []
          },
          "execution_count": 41
        }
      ]
    },
    {
      "cell_type": "code",
      "metadata": {
        "id": "cUl05Zdlj0hV",
        "colab_type": "code",
        "colab": {
          "base_uri": "https://localhost:8080/",
          "height": 67
        },
        "outputId": "b4362685-ff85-4168-810f-e42626662248"
      },
      "source": [
        "trainset = data.build_full_trainset()\n",
        "svd.fit(trainset)\n",
        "\n",
        "user_input = input(\"Enter the user id : \")\n",
        "book_input = input(\"Enter the book id : \")\n",
        "\n",
        "#give a prediction\n",
        "predict = svd.predict(user_input, book_input)\n",
        "predict\n",
        "\n",
        "#uid - user ID, for whom we carry out predictions\n",
        "#iid - book ID\n",
        "#est - estimated rating for an item"
      ],
      "execution_count": 42,
      "outputs": [
        {
          "output_type": "stream",
          "text": [
            "Enter the user id : 3662\n",
            "Enter the book id : 10\n"
          ],
          "name": "stdout"
        },
        {
          "output_type": "execute_result",
          "data": {
            "text/plain": [
              "Prediction(uid='3662', iid='10', r_ui=None, est=3.862301497916432, details={'was_impossible': False})"
            ]
          },
          "metadata": {
            "tags": []
          },
          "execution_count": 42
        }
      ]
    },
    {
      "cell_type": "code",
      "metadata": {
        "id": "xwdX2d01kP4D",
        "colab_type": "code",
        "colab": {
          "base_uri": "https://localhost:8080/",
          "height": 34
        },
        "outputId": "44cf6caf-262c-4a31-aac4-c5b61a18eb60"
      },
      "source": [
        "#do recommendation for predicted rating >=4\n",
        "if predict.est >= 4:\n",
        "  print(\"Recommend\")\n",
        "\n",
        "else:\n",
        "  print(\"Not recommend\")"
      ],
      "execution_count": 43,
      "outputs": [
        {
          "output_type": "stream",
          "text": [
            "Not recommend\n"
          ],
          "name": "stdout"
        }
      ]
    },
    {
      "cell_type": "code",
      "metadata": {
        "id": "c60K9gFrVO8Z",
        "colab_type": "code",
        "colab": {}
      },
      "source": [
        "#predict rating and remove rated books\n",
        "# Default column names\n",
        "DEFAULT_USER_COL = \"user_id\"\n",
        "DEFAULT_ITEM_COL = \"book_id\"\n",
        "DEFAULT_PREDICTION_COL = \"prediction\"\n",
        "COL_DICT = {\n",
        "    \"col_user\": DEFAULT_USER_COL,\n",
        "    \"col_item\": DEFAULT_ITEM_COL,\n",
        "    \"col_prediction\": DEFAULT_PREDICTION_COL,\n",
        "}\n",
        "\n",
        "def compute_ranking_predictions(\n",
        "    algo,\n",
        "    data,\n",
        "    usercol=DEFAULT_USER_COL,\n",
        "    itemcol=DEFAULT_ITEM_COL,\n",
        "    predcol=DEFAULT_PREDICTION_COL,\n",
        "    remove_seen=False,\n",
        "):\n",
        "    \"\"\"Computes predictions of an algorithm from Surprise on all users and items in data. It can be used for computing\n",
        "    ranking metrics like NDCG.\n",
        "    \n",
        "    Args:\n",
        "        algo (surprise.prediction_algorithms.algo_base.AlgoBase): an algorithm from Surprise\n",
        "        data (pd.DataFrame): the data from which to get the users and items\n",
        "        usercol (str): name of the user column\n",
        "        itemcol (str): name of the item column\n",
        "        remove_seen (bool): flag to remove (user, item) pairs seen in the training data\n",
        "    \n",
        "    Returns:\n",
        "        pd.DataFrame: dataframe with usercol, itemcol, predcol\n",
        "    \"\"\"\n",
        "    preds_lst = []\n",
        "    for user in data[usercol].unique():\n",
        "        for item in data[itemcol].unique():\n",
        "            preds_lst.append([user, item, algo.predict(user, item).est])\n",
        "\n",
        "    all_predictions = pd.DataFrame(data=preds_lst, columns=[usercol, itemcol, predcol])\n",
        "\n",
        "    if remove_seen:\n",
        "        tempdf = pd.concat(\n",
        "            [\n",
        "                data[[usercol, itemcol]],\n",
        "                pd.DataFrame(\n",
        "                    data=np.ones(data.shape[0]), columns=[\"dummycol\"], index=data.index\n",
        "                ),\n",
        "            ],\n",
        "            axis=1,\n",
        "        )\n",
        "        merged = pd.merge(tempdf, all_predictions, on=[usercol, itemcol], how=\"outer\")\n",
        "        return merged[merged[\"dummycol\"].isnull()].drop(\"dummycol\", axis=1)\n",
        "    else:\n",
        "        return all_predictions"
      ],
      "execution_count": 45,
      "outputs": []
    },
    {
      "cell_type": "code",
      "metadata": {
        "id": "kK8k04naWfRo",
        "colab_type": "code",
        "colab": {
          "base_uri": "https://localhost:8080/",
          "height": 134
        },
        "outputId": "b31c57e8-1cb8-49c4-eb14-cdf73d526b22"
      },
      "source": [
        "!pip install --upgrade surprise\n",
        "import surprise\n",
        "from surprise import Reader, Dataset, SVD\n",
        "from surprise.model_selection import train_test_split\n",
        "reader = Reader()\n",
        "\n",
        "data = Dataset.load_from_df(ratings_data[['user_id', 'book_id', 'rating']], reader)\n",
        "trainset, testset = train_test_split(data, test_size=.2)\n",
        "\n",
        "svd_algo = SVD()\n",
        "svd_algo.fit(trainset)"
      ],
      "execution_count": 46,
      "outputs": [
        {
          "output_type": "stream",
          "text": [
            "Requirement already up-to-date: surprise in /usr/local/lib/python3.6/dist-packages (0.1)\n",
            "Requirement already satisfied, skipping upgrade: scikit-surprise in /usr/local/lib/python3.6/dist-packages (from surprise) (1.1.1)\n",
            "Requirement already satisfied, skipping upgrade: six>=1.10.0 in /usr/local/lib/python3.6/dist-packages (from scikit-surprise->surprise) (1.15.0)\n",
            "Requirement already satisfied, skipping upgrade: numpy>=1.11.2 in /usr/local/lib/python3.6/dist-packages (from scikit-surprise->surprise) (1.18.5)\n",
            "Requirement already satisfied, skipping upgrade: scipy>=1.0.0 in /usr/local/lib/python3.6/dist-packages (from scikit-surprise->surprise) (1.4.1)\n",
            "Requirement already satisfied, skipping upgrade: joblib>=0.11 in /usr/local/lib/python3.6/dist-packages (from scikit-surprise->surprise) (0.16.0)\n"
          ],
          "name": "stdout"
        },
        {
          "output_type": "execute_result",
          "data": {
            "text/plain": [
              "<surprise.prediction_algorithms.matrix_factorization.SVD at 0x7fa281df1cf8>"
            ]
          },
          "metadata": {
            "tags": []
          },
          "execution_count": 46
        }
      ]
    },
    {
      "cell_type": "code",
      "metadata": {
        "id": "4u7yb_oeXYHO",
        "colab_type": "code",
        "colab": {
          "base_uri": "https://localhost:8080/",
          "height": 195
        },
        "outputId": "85f61f05-9c65-4ffa-b233-e3e7ca0c2ce4"
      },
      "source": [
        "#remove rated books in the top 10 recommendations\n",
        "all_predictions = compute_ranking_predictions(svd_algo, train, usercol='user_id', itemcol='book_id', remove_seen=True)\n",
        "all_predictions.head()"
      ],
      "execution_count": 47,
      "outputs": [
        {
          "output_type": "execute_result",
          "data": {
            "text/html": [
              "<div>\n",
              "<style scoped>\n",
              "    .dataframe tbody tr th:only-of-type {\n",
              "        vertical-align: middle;\n",
              "    }\n",
              "\n",
              "    .dataframe tbody tr th {\n",
              "        vertical-align: top;\n",
              "    }\n",
              "\n",
              "    .dataframe thead th {\n",
              "        text-align: right;\n",
              "    }\n",
              "</style>\n",
              "<table border=\"1\" class=\"dataframe\">\n",
              "  <thead>\n",
              "    <tr style=\"text-align: right;\">\n",
              "      <th></th>\n",
              "      <th>user_id</th>\n",
              "      <th>book_id</th>\n",
              "      <th>prediction</th>\n",
              "    </tr>\n",
              "  </thead>\n",
              "  <tbody>\n",
              "    <tr>\n",
              "      <th>56825</th>\n",
              "      <td>45364</td>\n",
              "      <td>8908</td>\n",
              "      <td>4.317024</td>\n",
              "    </tr>\n",
              "    <tr>\n",
              "      <th>56826</th>\n",
              "      <td>45364</td>\n",
              "      <td>6150</td>\n",
              "      <td>4.346262</td>\n",
              "    </tr>\n",
              "    <tr>\n",
              "      <th>56827</th>\n",
              "      <td>45364</td>\n",
              "      <td>4820</td>\n",
              "      <td>3.989547</td>\n",
              "    </tr>\n",
              "    <tr>\n",
              "      <th>56828</th>\n",
              "      <td>45364</td>\n",
              "      <td>4009</td>\n",
              "      <td>3.263245</td>\n",
              "    </tr>\n",
              "    <tr>\n",
              "      <th>56829</th>\n",
              "      <td>45364</td>\n",
              "      <td>3559</td>\n",
              "      <td>4.721294</td>\n",
              "    </tr>\n",
              "  </tbody>\n",
              "</table>\n",
              "</div>"
            ],
            "text/plain": [
              "       user_id  book_id  prediction\n",
              "56825    45364     8908    4.317024\n",
              "56826    45364     6150    4.346262\n",
              "56827    45364     4820    3.989547\n",
              "56828    45364     4009    3.263245\n",
              "56829    45364     3559    4.721294"
            ]
          },
          "metadata": {
            "tags": []
          },
          "execution_count": 47
        }
      ]
    },
    {
      "cell_type": "code",
      "metadata": {
        "id": "dkFRgGfzl7P5",
        "colab_type": "code",
        "colab": {
          "base_uri": "https://localhost:8080/",
          "height": 246
        },
        "outputId": "f2912991-8a97-453b-dbc7-75582c3dcc53"
      },
      "source": [
        "#get input for user ID to predict rating and do recommendation\n",
        "userID = int(input(\"Enter the user ID that you would like to recommend based on predicted rating: \"))\n",
        "predict_rating = all_predictions[all_predictions.user_id == (userID)]\n",
        "\n",
        "#do recommendation for predicted rating >=4\n",
        "print(\"           Recommendations for User ID : {}\".format(userID))\n",
        "print(\"=====================++++++++++++++=======================\")\n",
        "predict_rating = predict_rating[predict_rating['prediction']>=4]\n",
        "predict_rating.head()"
      ],
      "execution_count": 48,
      "outputs": [
        {
          "output_type": "stream",
          "text": [
            "Enter the user ID that you would like to recommend based on predicted rating: 45364\n",
            "           Recommendations for User ID : 45364\n",
            "=====================++++++++++++++=======================\n"
          ],
          "name": "stdout"
        },
        {
          "output_type": "execute_result",
          "data": {
            "text/html": [
              "<div>\n",
              "<style scoped>\n",
              "    .dataframe tbody tr th:only-of-type {\n",
              "        vertical-align: middle;\n",
              "    }\n",
              "\n",
              "    .dataframe tbody tr th {\n",
              "        vertical-align: top;\n",
              "    }\n",
              "\n",
              "    .dataframe thead th {\n",
              "        text-align: right;\n",
              "    }\n",
              "</style>\n",
              "<table border=\"1\" class=\"dataframe\">\n",
              "  <thead>\n",
              "    <tr style=\"text-align: right;\">\n",
              "      <th></th>\n",
              "      <th>user_id</th>\n",
              "      <th>book_id</th>\n",
              "      <th>prediction</th>\n",
              "    </tr>\n",
              "  </thead>\n",
              "  <tbody>\n",
              "    <tr>\n",
              "      <th>56825</th>\n",
              "      <td>45364</td>\n",
              "      <td>8908</td>\n",
              "      <td>4.317024</td>\n",
              "    </tr>\n",
              "    <tr>\n",
              "      <th>56826</th>\n",
              "      <td>45364</td>\n",
              "      <td>6150</td>\n",
              "      <td>4.346262</td>\n",
              "    </tr>\n",
              "    <tr>\n",
              "      <th>56829</th>\n",
              "      <td>45364</td>\n",
              "      <td>3559</td>\n",
              "      <td>4.721294</td>\n",
              "    </tr>\n",
              "    <tr>\n",
              "      <th>56830</th>\n",
              "      <td>45364</td>\n",
              "      <td>3465</td>\n",
              "      <td>4.234799</td>\n",
              "    </tr>\n",
              "    <tr>\n",
              "      <th>56831</th>\n",
              "      <td>45364</td>\n",
              "      <td>1303</td>\n",
              "      <td>4.303436</td>\n",
              "    </tr>\n",
              "  </tbody>\n",
              "</table>\n",
              "</div>"
            ],
            "text/plain": [
              "       user_id  book_id  prediction\n",
              "56825    45364     8908    4.317024\n",
              "56826    45364     6150    4.346262\n",
              "56829    45364     3559    4.721294\n",
              "56830    45364     3465    4.234799\n",
              "56831    45364     1303    4.303436"
            ]
          },
          "metadata": {
            "tags": []
          },
          "execution_count": 48
        }
      ]
    },
    {
      "cell_type": "markdown",
      "metadata": {
        "id": "Jb59stEX9VMr",
        "colab_type": "text"
      },
      "source": [
        "### SVD Matrix Factorization ###"
      ]
    },
    {
      "cell_type": "code",
      "metadata": {
        "id": "9S9ciiw_9cj3",
        "colab_type": "code",
        "colab": {
          "base_uri": "https://localhost:8080/",
          "height": 274
        },
        "outputId": "57f3c684-ca8b-4727-f118-6a7a58135483"
      },
      "source": [
        "#use similarities between customers preferences to decide which books to recommend\n",
        "\n",
        "# Creating our sparse matrix and fill NA's with 0 to avoid high memory usage.\n",
        "sample_ratings = ratings_data.sample(n=10001, random_state=20)\n",
        "pivot = pd.pivot_table(sample_ratings, values='rating', index='user_id', columns='book_id', fill_value=0)\n",
        "pivot.head()"
      ],
      "execution_count": 49,
      "outputs": [
        {
          "output_type": "execute_result",
          "data": {
            "text/html": [
              "<div>\n",
              "<style scoped>\n",
              "    .dataframe tbody tr th:only-of-type {\n",
              "        vertical-align: middle;\n",
              "    }\n",
              "\n",
              "    .dataframe tbody tr th {\n",
              "        vertical-align: top;\n",
              "    }\n",
              "\n",
              "    .dataframe thead th {\n",
              "        text-align: right;\n",
              "    }\n",
              "</style>\n",
              "<table border=\"1\" class=\"dataframe\">\n",
              "  <thead>\n",
              "    <tr style=\"text-align: right;\">\n",
              "      <th>book_id</th>\n",
              "      <th>3</th>\n",
              "      <th>4</th>\n",
              "      <th>5</th>\n",
              "      <th>8</th>\n",
              "      <th>12</th>\n",
              "      <th>14</th>\n",
              "      <th>16</th>\n",
              "      <th>18</th>\n",
              "      <th>20</th>\n",
              "      <th>22</th>\n",
              "      <th>24</th>\n",
              "      <th>26</th>\n",
              "      <th>28</th>\n",
              "      <th>31</th>\n",
              "      <th>33</th>\n",
              "      <th>34</th>\n",
              "      <th>35</th>\n",
              "      <th>36</th>\n",
              "      <th>37</th>\n",
              "      <th>39</th>\n",
              "      <th>42</th>\n",
              "      <th>44</th>\n",
              "      <th>47</th>\n",
              "      <th>48</th>\n",
              "      <th>49</th>\n",
              "      <th>52</th>\n",
              "      <th>53</th>\n",
              "      <th>54</th>\n",
              "      <th>57</th>\n",
              "      <th>58</th>\n",
              "      <th>60</th>\n",
              "      <th>61</th>\n",
              "      <th>62</th>\n",
              "      <th>63</th>\n",
              "      <th>65</th>\n",
              "      <th>68</th>\n",
              "      <th>69</th>\n",
              "      <th>70</th>\n",
              "      <th>71</th>\n",
              "      <th>73</th>\n",
              "      <th>...</th>\n",
              "      <th>9936</th>\n",
              "      <th>9939</th>\n",
              "      <th>9940</th>\n",
              "      <th>9941</th>\n",
              "      <th>9943</th>\n",
              "      <th>9944</th>\n",
              "      <th>9946</th>\n",
              "      <th>9948</th>\n",
              "      <th>9952</th>\n",
              "      <th>9954</th>\n",
              "      <th>9955</th>\n",
              "      <th>9956</th>\n",
              "      <th>9957</th>\n",
              "      <th>9959</th>\n",
              "      <th>9960</th>\n",
              "      <th>9963</th>\n",
              "      <th>9964</th>\n",
              "      <th>9965</th>\n",
              "      <th>9966</th>\n",
              "      <th>9968</th>\n",
              "      <th>9969</th>\n",
              "      <th>9972</th>\n",
              "      <th>9974</th>\n",
              "      <th>9976</th>\n",
              "      <th>9977</th>\n",
              "      <th>9979</th>\n",
              "      <th>9981</th>\n",
              "      <th>9983</th>\n",
              "      <th>9984</th>\n",
              "      <th>9985</th>\n",
              "      <th>9987</th>\n",
              "      <th>9988</th>\n",
              "      <th>9989</th>\n",
              "      <th>9991</th>\n",
              "      <th>9992</th>\n",
              "      <th>9995</th>\n",
              "      <th>9997</th>\n",
              "      <th>9998</th>\n",
              "      <th>9999</th>\n",
              "      <th>10000</th>\n",
              "    </tr>\n",
              "    <tr>\n",
              "      <th>user_id</th>\n",
              "      <th></th>\n",
              "      <th></th>\n",
              "      <th></th>\n",
              "      <th></th>\n",
              "      <th></th>\n",
              "      <th></th>\n",
              "      <th></th>\n",
              "      <th></th>\n",
              "      <th></th>\n",
              "      <th></th>\n",
              "      <th></th>\n",
              "      <th></th>\n",
              "      <th></th>\n",
              "      <th></th>\n",
              "      <th></th>\n",
              "      <th></th>\n",
              "      <th></th>\n",
              "      <th></th>\n",
              "      <th></th>\n",
              "      <th></th>\n",
              "      <th></th>\n",
              "      <th></th>\n",
              "      <th></th>\n",
              "      <th></th>\n",
              "      <th></th>\n",
              "      <th></th>\n",
              "      <th></th>\n",
              "      <th></th>\n",
              "      <th></th>\n",
              "      <th></th>\n",
              "      <th></th>\n",
              "      <th></th>\n",
              "      <th></th>\n",
              "      <th></th>\n",
              "      <th></th>\n",
              "      <th></th>\n",
              "      <th></th>\n",
              "      <th></th>\n",
              "      <th></th>\n",
              "      <th></th>\n",
              "      <th></th>\n",
              "      <th></th>\n",
              "      <th></th>\n",
              "      <th></th>\n",
              "      <th></th>\n",
              "      <th></th>\n",
              "      <th></th>\n",
              "      <th></th>\n",
              "      <th></th>\n",
              "      <th></th>\n",
              "      <th></th>\n",
              "      <th></th>\n",
              "      <th></th>\n",
              "      <th></th>\n",
              "      <th></th>\n",
              "      <th></th>\n",
              "      <th></th>\n",
              "      <th></th>\n",
              "      <th></th>\n",
              "      <th></th>\n",
              "      <th></th>\n",
              "      <th></th>\n",
              "      <th></th>\n",
              "      <th></th>\n",
              "      <th></th>\n",
              "      <th></th>\n",
              "      <th></th>\n",
              "      <th></th>\n",
              "      <th></th>\n",
              "      <th></th>\n",
              "      <th></th>\n",
              "      <th></th>\n",
              "      <th></th>\n",
              "      <th></th>\n",
              "      <th></th>\n",
              "      <th></th>\n",
              "      <th></th>\n",
              "      <th></th>\n",
              "      <th></th>\n",
              "      <th></th>\n",
              "      <th></th>\n",
              "    </tr>\n",
              "  </thead>\n",
              "  <tbody>\n",
              "    <tr>\n",
              "      <th>7</th>\n",
              "      <td>0</td>\n",
              "      <td>0</td>\n",
              "      <td>0</td>\n",
              "      <td>0</td>\n",
              "      <td>0</td>\n",
              "      <td>0</td>\n",
              "      <td>0</td>\n",
              "      <td>0</td>\n",
              "      <td>0</td>\n",
              "      <td>0</td>\n",
              "      <td>0</td>\n",
              "      <td>0</td>\n",
              "      <td>0</td>\n",
              "      <td>0</td>\n",
              "      <td>0</td>\n",
              "      <td>0</td>\n",
              "      <td>0</td>\n",
              "      <td>0</td>\n",
              "      <td>0</td>\n",
              "      <td>0</td>\n",
              "      <td>0</td>\n",
              "      <td>0</td>\n",
              "      <td>0</td>\n",
              "      <td>0</td>\n",
              "      <td>0</td>\n",
              "      <td>0</td>\n",
              "      <td>0</td>\n",
              "      <td>0</td>\n",
              "      <td>0</td>\n",
              "      <td>0</td>\n",
              "      <td>0</td>\n",
              "      <td>0</td>\n",
              "      <td>0</td>\n",
              "      <td>0</td>\n",
              "      <td>0</td>\n",
              "      <td>0</td>\n",
              "      <td>0</td>\n",
              "      <td>0</td>\n",
              "      <td>0</td>\n",
              "      <td>0</td>\n",
              "      <td>...</td>\n",
              "      <td>0</td>\n",
              "      <td>0</td>\n",
              "      <td>0</td>\n",
              "      <td>0</td>\n",
              "      <td>0</td>\n",
              "      <td>0</td>\n",
              "      <td>0</td>\n",
              "      <td>0</td>\n",
              "      <td>0</td>\n",
              "      <td>0</td>\n",
              "      <td>0</td>\n",
              "      <td>0</td>\n",
              "      <td>0</td>\n",
              "      <td>0</td>\n",
              "      <td>0</td>\n",
              "      <td>0</td>\n",
              "      <td>0</td>\n",
              "      <td>0</td>\n",
              "      <td>0</td>\n",
              "      <td>0</td>\n",
              "      <td>0</td>\n",
              "      <td>0</td>\n",
              "      <td>0</td>\n",
              "      <td>0</td>\n",
              "      <td>0</td>\n",
              "      <td>0</td>\n",
              "      <td>0</td>\n",
              "      <td>0</td>\n",
              "      <td>0</td>\n",
              "      <td>0</td>\n",
              "      <td>0</td>\n",
              "      <td>0</td>\n",
              "      <td>0</td>\n",
              "      <td>0</td>\n",
              "      <td>0</td>\n",
              "      <td>0</td>\n",
              "      <td>0</td>\n",
              "      <td>0</td>\n",
              "      <td>0</td>\n",
              "      <td>0</td>\n",
              "    </tr>\n",
              "    <tr>\n",
              "      <th>25</th>\n",
              "      <td>0</td>\n",
              "      <td>0</td>\n",
              "      <td>0</td>\n",
              "      <td>0</td>\n",
              "      <td>0</td>\n",
              "      <td>0</td>\n",
              "      <td>0</td>\n",
              "      <td>0</td>\n",
              "      <td>0</td>\n",
              "      <td>0</td>\n",
              "      <td>0</td>\n",
              "      <td>0</td>\n",
              "      <td>0</td>\n",
              "      <td>0</td>\n",
              "      <td>0</td>\n",
              "      <td>0</td>\n",
              "      <td>0</td>\n",
              "      <td>0</td>\n",
              "      <td>0</td>\n",
              "      <td>0</td>\n",
              "      <td>0</td>\n",
              "      <td>0</td>\n",
              "      <td>0</td>\n",
              "      <td>0</td>\n",
              "      <td>0</td>\n",
              "      <td>0</td>\n",
              "      <td>0</td>\n",
              "      <td>0</td>\n",
              "      <td>0</td>\n",
              "      <td>0</td>\n",
              "      <td>0</td>\n",
              "      <td>0</td>\n",
              "      <td>0</td>\n",
              "      <td>0</td>\n",
              "      <td>0</td>\n",
              "      <td>0</td>\n",
              "      <td>0</td>\n",
              "      <td>0</td>\n",
              "      <td>0</td>\n",
              "      <td>0</td>\n",
              "      <td>...</td>\n",
              "      <td>0</td>\n",
              "      <td>0</td>\n",
              "      <td>0</td>\n",
              "      <td>0</td>\n",
              "      <td>0</td>\n",
              "      <td>0</td>\n",
              "      <td>0</td>\n",
              "      <td>0</td>\n",
              "      <td>0</td>\n",
              "      <td>0</td>\n",
              "      <td>0</td>\n",
              "      <td>0</td>\n",
              "      <td>0</td>\n",
              "      <td>0</td>\n",
              "      <td>0</td>\n",
              "      <td>0</td>\n",
              "      <td>0</td>\n",
              "      <td>0</td>\n",
              "      <td>0</td>\n",
              "      <td>0</td>\n",
              "      <td>0</td>\n",
              "      <td>0</td>\n",
              "      <td>0</td>\n",
              "      <td>0</td>\n",
              "      <td>0</td>\n",
              "      <td>0</td>\n",
              "      <td>0</td>\n",
              "      <td>0</td>\n",
              "      <td>0</td>\n",
              "      <td>0</td>\n",
              "      <td>0</td>\n",
              "      <td>0</td>\n",
              "      <td>0</td>\n",
              "      <td>0</td>\n",
              "      <td>0</td>\n",
              "      <td>0</td>\n",
              "      <td>0</td>\n",
              "      <td>0</td>\n",
              "      <td>0</td>\n",
              "      <td>0</td>\n",
              "    </tr>\n",
              "    <tr>\n",
              "      <th>32</th>\n",
              "      <td>0</td>\n",
              "      <td>0</td>\n",
              "      <td>0</td>\n",
              "      <td>0</td>\n",
              "      <td>0</td>\n",
              "      <td>0</td>\n",
              "      <td>0</td>\n",
              "      <td>0</td>\n",
              "      <td>0</td>\n",
              "      <td>0</td>\n",
              "      <td>0</td>\n",
              "      <td>0</td>\n",
              "      <td>0</td>\n",
              "      <td>0</td>\n",
              "      <td>0</td>\n",
              "      <td>0</td>\n",
              "      <td>0</td>\n",
              "      <td>0</td>\n",
              "      <td>0</td>\n",
              "      <td>0</td>\n",
              "      <td>0</td>\n",
              "      <td>0</td>\n",
              "      <td>0</td>\n",
              "      <td>0</td>\n",
              "      <td>0</td>\n",
              "      <td>0</td>\n",
              "      <td>0</td>\n",
              "      <td>0</td>\n",
              "      <td>0</td>\n",
              "      <td>0</td>\n",
              "      <td>0</td>\n",
              "      <td>0</td>\n",
              "      <td>0</td>\n",
              "      <td>0</td>\n",
              "      <td>0</td>\n",
              "      <td>0</td>\n",
              "      <td>0</td>\n",
              "      <td>0</td>\n",
              "      <td>0</td>\n",
              "      <td>0</td>\n",
              "      <td>...</td>\n",
              "      <td>0</td>\n",
              "      <td>0</td>\n",
              "      <td>0</td>\n",
              "      <td>0</td>\n",
              "      <td>0</td>\n",
              "      <td>0</td>\n",
              "      <td>0</td>\n",
              "      <td>0</td>\n",
              "      <td>0</td>\n",
              "      <td>0</td>\n",
              "      <td>0</td>\n",
              "      <td>0</td>\n",
              "      <td>0</td>\n",
              "      <td>0</td>\n",
              "      <td>0</td>\n",
              "      <td>0</td>\n",
              "      <td>0</td>\n",
              "      <td>0</td>\n",
              "      <td>0</td>\n",
              "      <td>0</td>\n",
              "      <td>0</td>\n",
              "      <td>0</td>\n",
              "      <td>0</td>\n",
              "      <td>0</td>\n",
              "      <td>0</td>\n",
              "      <td>0</td>\n",
              "      <td>0</td>\n",
              "      <td>0</td>\n",
              "      <td>0</td>\n",
              "      <td>0</td>\n",
              "      <td>0</td>\n",
              "      <td>0</td>\n",
              "      <td>0</td>\n",
              "      <td>0</td>\n",
              "      <td>0</td>\n",
              "      <td>0</td>\n",
              "      <td>0</td>\n",
              "      <td>0</td>\n",
              "      <td>0</td>\n",
              "      <td>0</td>\n",
              "    </tr>\n",
              "    <tr>\n",
              "      <th>35</th>\n",
              "      <td>0</td>\n",
              "      <td>0</td>\n",
              "      <td>0</td>\n",
              "      <td>0</td>\n",
              "      <td>0</td>\n",
              "      <td>0</td>\n",
              "      <td>0</td>\n",
              "      <td>0</td>\n",
              "      <td>0</td>\n",
              "      <td>0</td>\n",
              "      <td>0</td>\n",
              "      <td>0</td>\n",
              "      <td>0</td>\n",
              "      <td>0</td>\n",
              "      <td>0</td>\n",
              "      <td>0</td>\n",
              "      <td>0</td>\n",
              "      <td>0</td>\n",
              "      <td>0</td>\n",
              "      <td>0</td>\n",
              "      <td>0</td>\n",
              "      <td>0</td>\n",
              "      <td>0</td>\n",
              "      <td>0</td>\n",
              "      <td>0</td>\n",
              "      <td>0</td>\n",
              "      <td>0</td>\n",
              "      <td>0</td>\n",
              "      <td>0</td>\n",
              "      <td>0</td>\n",
              "      <td>0</td>\n",
              "      <td>0</td>\n",
              "      <td>0</td>\n",
              "      <td>0</td>\n",
              "      <td>0</td>\n",
              "      <td>0</td>\n",
              "      <td>0</td>\n",
              "      <td>0</td>\n",
              "      <td>0</td>\n",
              "      <td>0</td>\n",
              "      <td>...</td>\n",
              "      <td>0</td>\n",
              "      <td>0</td>\n",
              "      <td>0</td>\n",
              "      <td>0</td>\n",
              "      <td>0</td>\n",
              "      <td>0</td>\n",
              "      <td>0</td>\n",
              "      <td>0</td>\n",
              "      <td>0</td>\n",
              "      <td>0</td>\n",
              "      <td>0</td>\n",
              "      <td>0</td>\n",
              "      <td>0</td>\n",
              "      <td>0</td>\n",
              "      <td>0</td>\n",
              "      <td>0</td>\n",
              "      <td>0</td>\n",
              "      <td>0</td>\n",
              "      <td>0</td>\n",
              "      <td>0</td>\n",
              "      <td>0</td>\n",
              "      <td>0</td>\n",
              "      <td>0</td>\n",
              "      <td>0</td>\n",
              "      <td>0</td>\n",
              "      <td>0</td>\n",
              "      <td>0</td>\n",
              "      <td>0</td>\n",
              "      <td>0</td>\n",
              "      <td>0</td>\n",
              "      <td>0</td>\n",
              "      <td>0</td>\n",
              "      <td>0</td>\n",
              "      <td>0</td>\n",
              "      <td>0</td>\n",
              "      <td>0</td>\n",
              "      <td>0</td>\n",
              "      <td>0</td>\n",
              "      <td>0</td>\n",
              "      <td>0</td>\n",
              "    </tr>\n",
              "    <tr>\n",
              "      <th>41</th>\n",
              "      <td>0</td>\n",
              "      <td>0</td>\n",
              "      <td>0</td>\n",
              "      <td>0</td>\n",
              "      <td>0</td>\n",
              "      <td>0</td>\n",
              "      <td>0</td>\n",
              "      <td>0</td>\n",
              "      <td>0</td>\n",
              "      <td>0</td>\n",
              "      <td>0</td>\n",
              "      <td>0</td>\n",
              "      <td>0</td>\n",
              "      <td>0</td>\n",
              "      <td>0</td>\n",
              "      <td>0</td>\n",
              "      <td>0</td>\n",
              "      <td>0</td>\n",
              "      <td>0</td>\n",
              "      <td>0</td>\n",
              "      <td>0</td>\n",
              "      <td>0</td>\n",
              "      <td>0</td>\n",
              "      <td>0</td>\n",
              "      <td>0</td>\n",
              "      <td>0</td>\n",
              "      <td>0</td>\n",
              "      <td>0</td>\n",
              "      <td>0</td>\n",
              "      <td>0</td>\n",
              "      <td>0</td>\n",
              "      <td>0</td>\n",
              "      <td>0</td>\n",
              "      <td>0</td>\n",
              "      <td>0</td>\n",
              "      <td>0</td>\n",
              "      <td>0</td>\n",
              "      <td>0</td>\n",
              "      <td>0</td>\n",
              "      <td>0</td>\n",
              "      <td>...</td>\n",
              "      <td>0</td>\n",
              "      <td>0</td>\n",
              "      <td>0</td>\n",
              "      <td>0</td>\n",
              "      <td>0</td>\n",
              "      <td>0</td>\n",
              "      <td>0</td>\n",
              "      <td>0</td>\n",
              "      <td>0</td>\n",
              "      <td>0</td>\n",
              "      <td>0</td>\n",
              "      <td>0</td>\n",
              "      <td>0</td>\n",
              "      <td>0</td>\n",
              "      <td>0</td>\n",
              "      <td>0</td>\n",
              "      <td>0</td>\n",
              "      <td>0</td>\n",
              "      <td>0</td>\n",
              "      <td>0</td>\n",
              "      <td>0</td>\n",
              "      <td>0</td>\n",
              "      <td>0</td>\n",
              "      <td>0</td>\n",
              "      <td>0</td>\n",
              "      <td>0</td>\n",
              "      <td>0</td>\n",
              "      <td>0</td>\n",
              "      <td>0</td>\n",
              "      <td>0</td>\n",
              "      <td>0</td>\n",
              "      <td>0</td>\n",
              "      <td>0</td>\n",
              "      <td>0</td>\n",
              "      <td>0</td>\n",
              "      <td>0</td>\n",
              "      <td>0</td>\n",
              "      <td>0</td>\n",
              "      <td>0</td>\n",
              "      <td>0</td>\n",
              "    </tr>\n",
              "  </tbody>\n",
              "</table>\n",
              "<p>5 rows × 6336 columns</p>\n",
              "</div>"
            ],
            "text/plain": [
              "book_id  3      4      5      8      12     ...  9995   9997   9998   9999   10000\n",
              "user_id                                     ...                                   \n",
              "7            0      0      0      0      0  ...      0      0      0      0      0\n",
              "25           0      0      0      0      0  ...      0      0      0      0      0\n",
              "32           0      0      0      0      0  ...      0      0      0      0      0\n",
              "35           0      0      0      0      0  ...      0      0      0      0      0\n",
              "41           0      0      0      0      0  ...      0      0      0      0      0\n",
              "\n",
              "[5 rows x 6336 columns]"
            ]
          },
          "metadata": {
            "tags": []
          },
          "execution_count": 49
        }
      ]
    },
    {
      "cell_type": "code",
      "metadata": {
        "id": "F0DwGaPh9i5_",
        "colab_type": "code",
        "colab": {
          "base_uri": "https://localhost:8080/",
          "height": 101
        },
        "outputId": "23e40cea-d8c4-45bd-ba2a-9500f80b37bc"
      },
      "source": [
        "from sklearn.decomposition import TruncatedSVD\n",
        "\n",
        "#transpose the matrix so the books are represented by rows and user are represented by column\n",
        "X = pivot.T\n",
        "\n",
        "#use truncated svd to compress all of the user ratings down to small number of latent variables\n",
        "SVD = TruncatedSVD(n_components=500, random_state=20)\n",
        "SVD_matrix = SVD.fit_transform(X)\n",
        "\n",
        "#generating a correlation matrix\n",
        "# Calculate the Pearson r correlation coefficient for every book pair in the resultant matrix. \n",
        "# based on similarities between customers preferences.\n",
        "corr_mat = np.corrcoef(SVD_matrix)\n",
        "\n",
        "#use one book as the sample\n",
        "rand_book = 296\n",
        "corr_book = corr_mat[rand_book]\n",
        "\n",
        "# Recommending a Highly Correlated book.\n",
        "# We will get different results due to decompression with svd\n",
        "idx = X[(corr_book < 1.0) & (corr_book > 0.5)].index\n",
        "books_data.loc[idx+1, 'original_title']"
      ],
      "execution_count": 50,
      "outputs": [
        {
          "output_type": "execute_result",
          "data": {
            "text/plain": [
              "book_id\n",
              "100                  The Hitchhiker's Guide to the Galaxy\n",
              "996     The Mother Tongue: English and How It Got That...\n",
              "1557                                                Heidi\n",
              "Name: original_title, dtype: object"
            ]
          },
          "metadata": {
            "tags": []
          },
          "execution_count": 50
        }
      ]
    },
    {
      "cell_type": "markdown",
      "metadata": {
        "id": "UcCBKAT9vIPn",
        "colab_type": "text"
      },
      "source": [
        "###Euclidean Distance ###"
      ]
    },
    {
      "cell_type": "code",
      "metadata": {
        "id": "XX6thA-0uVtH",
        "colab_type": "code",
        "colab": {
          "base_uri": "https://localhost:8080/",
          "height": 34
        },
        "outputId": "826ccfed-9aa7-4429-882b-7ad8d5b64842"
      },
      "source": [
        "#data analysis\n",
        "# Check how many times each books are rated\n",
        "from collections import Counter\n",
        "Counter(books_data['original_title'].head())"
      ],
      "execution_count": 51,
      "outputs": [
        {
          "output_type": "execute_result",
          "data": {
            "text/plain": [
              "Counter({'Harry Potter Collection (Harry Potter, #1-6)': 5})"
            ]
          },
          "metadata": {
            "tags": []
          },
          "execution_count": 51
        }
      ]
    },
    {
      "cell_type": "code",
      "metadata": {
        "id": "O9XGpkCCvRSW",
        "colab_type": "code",
        "colab": {
          "base_uri": "https://localhost:8080/",
          "height": 134
        },
        "outputId": "b895a9cd-37e8-4b5c-b9c0-0a28bb19cedc"
      },
      "source": [
        "# See how many times different reviewers rated the same title\n",
        "books_data.groupby(\"user_id\")[\"original_title\"].unique().head(5)"
      ],
      "execution_count": 52,
      "outputs": [
        {
          "output_type": "execute_result",
          "data": {
            "text/plain": [
              "user_id\n",
              "2    [Loving What Is: Four Questions That Can Chang...\n",
              "3                                      [The Long Walk]\n",
              "4                                           [Moloka'i]\n",
              "7    [White Teeth, Naked, Extremely Loud and Incred...\n",
              "9    [Unlimited Power : The New Science Of Personal...\n",
              "Name: original_title, dtype: object"
            ]
          },
          "metadata": {
            "tags": []
          },
          "execution_count": 52
        }
      ]
    },
    {
      "cell_type": "code",
      "metadata": {
        "id": "4NP-wPPgvU-Q",
        "colab_type": "code",
        "colab": {
          "base_uri": "https://localhost:8080/",
          "height": 225
        },
        "outputId": "feeb9da9-2569-498c-a48e-c2a0b223b186"
      },
      "source": [
        "#data preparation for euclidean distance model\n",
        "# Filters the unique reviewerName for their corresponding title and reviewRatings\n",
        "filter_user = books_data.set_index(['user_id', 'original_title']).sort_index()\n",
        "filter_user.head()"
      ],
      "execution_count": 53,
      "outputs": [
        {
          "output_type": "execute_result",
          "data": {
            "text/html": [
              "<div>\n",
              "<style scoped>\n",
              "    .dataframe tbody tr th:only-of-type {\n",
              "        vertical-align: middle;\n",
              "    }\n",
              "\n",
              "    .dataframe tbody tr th {\n",
              "        vertical-align: top;\n",
              "    }\n",
              "\n",
              "    .dataframe thead th {\n",
              "        text-align: right;\n",
              "    }\n",
              "</style>\n",
              "<table border=\"1\" class=\"dataframe\">\n",
              "  <thead>\n",
              "    <tr style=\"text-align: right;\">\n",
              "      <th></th>\n",
              "      <th></th>\n",
              "      <th>book_id</th>\n",
              "      <th>rating</th>\n",
              "      <th>books_count</th>\n",
              "      <th>authors</th>\n",
              "      <th>original_publication_year</th>\n",
              "      <th>average_rating</th>\n",
              "      <th>ratings_count</th>\n",
              "    </tr>\n",
              "    <tr>\n",
              "      <th>user_id</th>\n",
              "      <th>original_title</th>\n",
              "      <th></th>\n",
              "      <th></th>\n",
              "      <th></th>\n",
              "      <th></th>\n",
              "      <th></th>\n",
              "      <th></th>\n",
              "      <th></th>\n",
              "    </tr>\n",
              "  </thead>\n",
              "  <tbody>\n",
              "    <tr>\n",
              "      <th>2</th>\n",
              "      <th>Loving What Is: Four Questions That Can Change Your Life</th>\n",
              "      <td>9762</td>\n",
              "      <td>4</td>\n",
              "      <td>30</td>\n",
              "      <td>Byron Katie, Stephen Mitchell</td>\n",
              "      <td>2002.0</td>\n",
              "      <td>4.15</td>\n",
              "      <td>12568</td>\n",
              "    </tr>\n",
              "    <tr>\n",
              "      <th>3</th>\n",
              "      <th>The Long Walk</th>\n",
              "      <td>9014</td>\n",
              "      <td>1</td>\n",
              "      <td>109</td>\n",
              "      <td>Richard Bachman, Stephen King</td>\n",
              "      <td>1979.0</td>\n",
              "      <td>4.11</td>\n",
              "      <td>71775</td>\n",
              "    </tr>\n",
              "    <tr>\n",
              "      <th>4</th>\n",
              "      <th>Moloka'i</th>\n",
              "      <td>3273</td>\n",
              "      <td>2</td>\n",
              "      <td>20</td>\n",
              "      <td>Alan Brennert</td>\n",
              "      <td>2003.0</td>\n",
              "      <td>4.15</td>\n",
              "      <td>75307</td>\n",
              "    </tr>\n",
              "    <tr>\n",
              "      <th rowspan=\"2\" valign=\"top\">7</th>\n",
              "      <th>Extremely Loud and Incredibly Close</th>\n",
              "      <td>4588</td>\n",
              "      <td>3</td>\n",
              "      <td>104</td>\n",
              "      <td>Jonathan Safran Foer</td>\n",
              "      <td>2005.0</td>\n",
              "      <td>3.97</td>\n",
              "      <td>294726</td>\n",
              "    </tr>\n",
              "    <tr>\n",
              "      <th>Naked</th>\n",
              "      <td>4138</td>\n",
              "      <td>3</td>\n",
              "      <td>54</td>\n",
              "      <td>David Sedaris</td>\n",
              "      <td>1997.0</td>\n",
              "      <td>4.08</td>\n",
              "      <td>201337</td>\n",
              "    </tr>\n",
              "  </tbody>\n",
              "</table>\n",
              "</div>"
            ],
            "text/plain": [
              "                                                            book_id  ...  ratings_count\n",
              "user_id original_title                                               ...               \n",
              "2       Loving What Is: Four Questions That Can Change ...     9762  ...          12568\n",
              "3       The Long Walk                                          9014  ...          71775\n",
              "4       Moloka'i                                               3273  ...          75307\n",
              "7       Extremely Loud and Incredibly Close                    4588  ...         294726\n",
              "        Naked                                                  4138  ...         201337\n",
              "\n",
              "[5 rows x 7 columns]"
            ]
          },
          "metadata": {
            "tags": []
          },
          "execution_count": 53
        }
      ]
    },
    {
      "cell_type": "code",
      "metadata": {
        "id": "3teph6gcvhxi",
        "colab_type": "code",
        "colab": {}
      },
      "source": [
        "# Converts dataframe to dictionary\n",
        "d = (books_data.groupby('user_id')['original_title','rating'].apply(lambda x: dict(x.values)).to_dict())"
      ],
      "execution_count": 54,
      "outputs": []
    },
    {
      "cell_type": "code",
      "metadata": {
        "id": "i-dURnxGvX3e",
        "colab_type": "code",
        "colab": {}
      },
      "source": [
        "#euclidean distance model \n",
        "#formula = dist((x,y),(a,b)) = sqrt((x - a)² + (y - b)²))\n",
        "\n",
        "#calculate the similarity score between all customers that are closest to customer given\n",
        "# Returns a distance-based similarity score for person1 and person2\n",
        "def sim_distance(prefs,person1,person2):\n",
        "    si = {} \n",
        "    for item in prefs[person1]:\n",
        "        if item in prefs[person2]:\n",
        "            si[item]=1    \n",
        "    if len(si) == 0: \n",
        "        return 0\n",
        "    sum_of_squares = sum([pow(prefs[person1][item] - prefs[person2][item],2) \n",
        "                          for item in prefs[person1] if item in prefs[person2]])\n",
        "    \n",
        "    #add the results by 1\n",
        "    #divide the results by 1 so the euclidean score is between 0 and 1\n",
        "    return 1/(1+sum_of_squares)\n",
        "\n",
        "# Checks for user similarity using Euclidean distance score\n",
        "def top_matches(prefs, person, n=10, similarity = sim_distance):\n",
        "    scores = [(similarity(prefs,person,other), other)\n",
        "            for other in prefs if other!=person]\n",
        "    scores.sort()\n",
        "    scores.reverse()\n",
        "    return scores[0:n]\n",
        "\n",
        "# Gets recommendation using a weighted average of all other users using Euclidean distance score\n",
        "def get_recommendations(prefs, person, n=10, similarity = sim_distance):\n",
        "    totals = {} \n",
        "    simSums = {}\n",
        "    for other in prefs:\n",
        "        if other == person:\n",
        "            continue\n",
        "        sim = similarity(prefs, person, other)\n",
        "        if sim <= 0:\n",
        "            continue\n",
        "        for item in prefs[other]:\n",
        "            if item not in prefs[person] or prefs[person][item] == 0:\n",
        "                totals.setdefault(item,0)\n",
        "                #multiply the similarity score for each user by book rating for the same user \n",
        "                #totals = sum of rated similarity score\n",
        "                totals[item] += prefs[other][item] * sim\n",
        "                simSums.setdefault(item,0)\n",
        "                #simSums = sum of similarity score based on ratings by other users\n",
        "                simSums[item] += sim\n",
        "\n",
        "    #divide the sum of rated similarity score by sum of similarity score based on ratings by other users\n",
        "    #then recommend books that the user would be interested\n",
        "    rankings = [(total/simSums[item], item) for item, total in totals.items()]\n",
        "    rankings.sort()\n",
        "    rankings.reverse()\n",
        "    return rankings[0:n]"
      ],
      "execution_count": 55,
      "outputs": []
    },
    {
      "cell_type": "code",
      "metadata": {
        "id": "vQORdZCshz82",
        "colab_type": "code",
        "colab": {
          "base_uri": "https://localhost:8080/",
          "height": 252
        },
        "outputId": "2c91ecf7-d596-43c9-fc46-54f017851acb"
      },
      "source": [
        "#let customers to key in their user id\n",
        "find_near_user = int(input(\"Enter your user id : \"))\n",
        "\n",
        "# Top 10 similar customers for customers entered\n",
        "print(\"           Top 10 Similar Customers to User ID : {}\".format(find_near_user))\n",
        "print(\"=====================++++++++++++++=======================\")\n",
        "print(\"Distance User_ID\")\n",
        "top_matches(d, find_near_user)"
      ],
      "execution_count": 56,
      "outputs": [
        {
          "output_type": "stream",
          "text": [
            "Enter your user id : 45364\n",
            "           Top 10 Similar Customers to User ID : 45364\n",
            "=====================++++++++++++++=======================\n",
            "Distance User_ID\n"
          ],
          "name": "stdout"
        },
        {
          "output_type": "execute_result",
          "data": {
            "text/plain": [
              "[(1.0, 52393),\n",
              " (1.0, 52024),\n",
              " (1.0, 51680),\n",
              " (1.0, 51195),\n",
              " (1.0, 51166),\n",
              " (1.0, 51028),\n",
              " (1.0, 50969),\n",
              " (1.0, 50913),\n",
              " (1.0, 50676),\n",
              " (1.0, 50581)]"
            ]
          },
          "metadata": {
            "tags": []
          },
          "execution_count": 56
        }
      ]
    },
    {
      "cell_type": "code",
      "metadata": {
        "id": "bVYT6YTuvsWJ",
        "colab_type": "code",
        "colab": {
          "base_uri": "https://localhost:8080/",
          "height": 235
        },
        "outputId": "a87c998b-01b6-4af0-d581-185f3c968a95"
      },
      "source": [
        "#get top recommendation for userID entered\n",
        "print(\" \")\n",
        "print(\"           Recommendations for User ID : {}\".format(find_near_user))\n",
        "print(\"=====================++++++++++++++=======================\")\n",
        "get_recommendations(d, find_near_user)"
      ],
      "execution_count": 57,
      "outputs": [
        {
          "output_type": "stream",
          "text": [
            " \n",
            "           Recommendations for User ID : 45364\n",
            "=====================++++++++++++++=======================\n"
          ],
          "name": "stdout"
        },
        {
          "output_type": "execute_result",
          "data": {
            "text/plain": [
              "[(5.0, 'number9dream'),\n",
              " (5.0, 'White Teeth'),\n",
              " (5.0, 'Virgin'),\n",
              " (5.0, 'Vampire Mountain (Cirque du Freak, #4) '),\n",
              " (5.0, 'The Witches'),\n",
              " (5.0, 'The Taste of Home Cookbook'),\n",
              " (5.0, 'The Sirens of Titan'),\n",
              " (5.0, 'The Red Pony'),\n",
              " (5.0, 'The Quiet American'),\n",
              " (5.0, 'The Poisonwood Bible')]"
            ]
          },
          "metadata": {
            "tags": []
          },
          "execution_count": 57
        }
      ]
    }
  ]
}